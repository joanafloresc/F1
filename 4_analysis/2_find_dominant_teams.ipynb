{
 "cells": [
  {
   "cell_type": "code",
   "execution_count": 0,
   "metadata": {
    "application/vnd.databricks.v1+cell": {
     "cellMetadata": {
      "byteLimit": 2048000,
      "rowLimit": 10000
     },
     "inputWidgets": {},
     "nuid": "8c1a34f7-f50c-4cbc-bb5e-f20a6bce9810",
     "showTitle": false,
     "tableResultSettingsMap": {},
     "title": ""
    }
   },
   "outputs": [
    {
     "output_type": "display_data",
     "data": {
      "text/html": [
       "<style scoped>\n",
       "  .table-result-container {\n",
       "    max-height: 300px;\n",
       "    overflow: auto;\n",
       "  }\n",
       "  table, th, td {\n",
       "    border: 1px solid black;\n",
       "    border-collapse: collapse;\n",
       "  }\n",
       "  th, td {\n",
       "    padding: 5px;\n",
       "  }\n",
       "  th {\n",
       "    text-align: left;\n",
       "  }\n",
       "</style><div class='table-result-container'><table class='table-result'><thead style='background-color: white'><tr><th>team_name</th><th>total_races</th><th>total_points</th><th>avg_points</th></tr></thead><tbody><tr><td>Mercedes</td><td>385</td><td>2931</td><td>7.612987012987013</td></tr><tr><td>Ferrari</td><td>1478</td><td>10500</td><td>7.104194857916103</td></tr><tr><td>McLaren</td><td>1032</td><td>6865</td><td>6.6521317829457365</td></tr><tr><td>Red Bull</td><td>433</td><td>2851</td><td>6.584295612009238</td></tr><tr><td>Williams</td><td>745</td><td>4759</td><td>6.387919463087249</td></tr><tr><td>Benetton</td><td>296</td><td>1806</td><td>6.101351351351352</td></tr><tr><td>Team Lotus</td><td>352</td><td>2100</td><td>5.965909090909091</td></tr><tr><td>Cooper-Climax</td><td>130</td><td>772</td><td>5.938461538461539</td></tr><tr><td>Brabham</td><td>235</td><td>1373</td><td>5.842553191489362</td></tr><tr><td>BRM</td><td>215</td><td>1212</td><td>5.637209302325582</td></tr><tr><td>Renault</td><td>385</td><td>2105</td><td>5.467532467532467</td></tr><tr><td>Maserati</td><td>179</td><td>950</td><td>5.307262569832402</td></tr><tr><td>Tyrrell</td><td>339</td><td>1749</td><td>5.15929203539823</td></tr><tr><td>Jordan</td><td>184</td><td>882</td><td>4.793478260869565</td></tr><tr><td>Ligier</td><td>248</td><td>1134</td><td>4.57258064516129</td></tr><tr><td>BAR</td><td>112</td><td>509</td><td>4.544642857142857</td></tr><tr><td>Toyota</td><td>130</td><td>535</td><td>4.115384615384615</td></tr><tr><td>March</td><td>136</td><td>550</td><td>4.044117647058823</td></tr><tr><td>Arrows</td><td>196</td><td>730</td><td>3.7244897959183674</td></tr><tr><td>Sauber</td><td>298</td><td>1058</td><td>3.5503355704697985</td></tr><tr><td>Force India</td><td>211</td><td>742</td><td>3.5165876777251186</td></tr><tr><td>Minardi</td><td>113</td><td>330</td><td>2.920353982300885</td></tr><tr><td>Toro Rosso</td><td>158</td><td>438</td><td>2.7721518987341773</td></tr></tbody></table></div>"
      ]
     },
     "metadata": {
      "application/vnd.databricks.v1+output": {
       "addedWidgets": {},
       "aggData": [],
       "aggError": "",
       "aggOverflow": false,
       "aggSchema": [],
       "aggSeriesLimitReached": false,
       "aggType": "",
       "arguments": {},
       "columnCustomDisplayInfos": {},
       "data": [
        [
         "Mercedes",
         385,
         2931,
         7.612987012987013
        ],
        [
         "Ferrari",
         1478,
         10500,
         7.104194857916103
        ],
        [
         "McLaren",
         1032,
         6865,
         6.6521317829457365
        ],
        [
         "Red Bull",
         433,
         2851,
         6.584295612009238
        ],
        [
         "Williams",
         745,
         4759,
         6.387919463087249
        ],
        [
         "Benetton",
         296,
         1806,
         6.101351351351352
        ],
        [
         "Team Lotus",
         352,
         2100,
         5.965909090909091
        ],
        [
         "Cooper-Climax",
         130,
         772,
         5.938461538461539
        ],
        [
         "Brabham",
         235,
         1373,
         5.842553191489362
        ],
        [
         "BRM",
         215,
         1212,
         5.637209302325582
        ],
        [
         "Renault",
         385,
         2105,
         5.467532467532467
        ],
        [
         "Maserati",
         179,
         950,
         5.307262569832402
        ],
        [
         "Tyrrell",
         339,
         1749,
         5.15929203539823
        ],
        [
         "Jordan",
         184,
         882,
         4.793478260869565
        ],
        [
         "Ligier",
         248,
         1134,
         4.57258064516129
        ],
        [
         "BAR",
         112,
         509,
         4.544642857142857
        ],
        [
         "Toyota",
         130,
         535,
         4.115384615384615
        ],
        [
         "March",
         136,
         550,
         4.044117647058823
        ],
        [
         "Arrows",
         196,
         730,
         3.7244897959183674
        ],
        [
         "Sauber",
         298,
         1058,
         3.5503355704697985
        ],
        [
         "Force India",
         211,
         742,
         3.5165876777251186
        ],
        [
         "Minardi",
         113,
         330,
         2.920353982300885
        ],
        [
         "Toro Rosso",
         158,
         438,
         2.7721518987341773
        ]
       ],
       "datasetInfos": [],
       "dbfsResultPath": null,
       "isJsonSchema": true,
       "metadata": {
        "isDbfsCommandResult": false
       },
       "overflow": false,
       "plotOptions": {
        "customPlotOptions": {},
        "displayType": "table",
        "pivotAggregation": null,
        "pivotColumns": null,
        "xColumns": null,
        "yColumns": null
       },
       "removedWidgets": [],
       "schema": [
        {
         "metadata": "{}",
         "name": "team_name",
         "type": "\"string\""
        },
        {
         "metadata": "{}",
         "name": "total_races",
         "type": "\"long\""
        },
        {
         "metadata": "{}",
         "name": "total_points",
         "type": "\"long\""
        },
        {
         "metadata": "{}",
         "name": "avg_points",
         "type": "\"double\""
        }
       ],
       "type": "table"
      }
     },
     "output_type": "display_data"
    }
   ],
   "source": [
    "SELECT team_name,\n",
    "  COUNT(1) AS total_races,\n",
    "  SUM(calculated_points) AS total_points,\n",
    "  AVG(calculated_points) AS avg_points\n",
    "  FROM f1_presentation.calculated_race_results\n",
    "--WHERE race_year BETWEEN 2011 and 2025\n",
    "GROUP BY team_name\n",
    "HAVING total_races >= 100\n",
    "ORDER BY avg_points DESC ;"
   ]
  }
 ],
 "metadata": {
  "application/vnd.databricks.v1+notebook": {
   "computePreferences": null,
   "dashboards": [],
   "environmentMetadata": {
    "base_environment": "",
    "environment_version": "2"
   },
   "language": "sql",
   "notebookMetadata": {
    "pythonIndentUnit": 4
   },
   "notebookName": "2_find_dominant_teams",
   "widgets": {}
  },
  "language_info": {
   "name": "sql"
  }
 },
 "nbformat": 4,
 "nbformat_minor": 0
}