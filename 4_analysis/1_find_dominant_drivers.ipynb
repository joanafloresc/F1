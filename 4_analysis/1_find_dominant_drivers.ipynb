{
 "cells": [
  {
   "cell_type": "code",
   "execution_count": 0,
   "metadata": {
    "application/vnd.databricks.v1+cell": {
     "cellMetadata": {
      "byteLimit": 2048000,
      "rowLimit": 10000
     },
     "inputWidgets": {},
     "nuid": "8c1a34f7-f50c-4cbc-bb5e-f20a6bce9810",
     "showTitle": false,
     "tableResultSettingsMap": {},
     "title": ""
    }
   },
   "outputs": [
    {
     "output_type": "display_data",
     "data": {
      "text/html": [
       "<style scoped>\n",
       "  .table-result-container {\n",
       "    max-height: 300px;\n",
       "    overflow: auto;\n",
       "  }\n",
       "  table, th, td {\n",
       "    border: 1px solid black;\n",
       "    border-collapse: collapse;\n",
       "  }\n",
       "  th, td {\n",
       "    padding: 5px;\n",
       "  }\n",
       "  th {\n",
       "    text-align: left;\n",
       "  }\n",
       "</style><div class='table-result-container'><table class='table-result'><thead style='background-color: white'><tr><th>driver_name</th><th>total_races</th><th>total_points</th><th>avg_points</th></tr></thead><tbody><tr><td>Lewis Hamilton</td><td>177</td><td>1478</td><td>8.350282485875706</td></tr><tr><td>Sebastian Vettel</td><td>164</td><td>1282</td><td>7.817073170731708</td></tr><tr><td>Nico Rosberg</td><td>93</td><td>673</td><td>7.236559139784946</td></tr><tr><td>Max Verstappen</td><td>88</td><td>605</td><td>6.875</td></tr><tr><td>Valtteri Bottas</td><td>117</td><td>793</td><td>6.777777777777778</td></tr><tr><td>Fernando Alonso</td><td>95</td><td>584</td><td>6.147368421052631</td></tr><tr><td>Kimi Räikkönen</td><td>121</td><td>721</td><td>5.958677685950414</td></tr><tr><td>Daniel Ricciardo</td><td>111</td><td>639</td><td>5.756756756756757</td></tr><tr><td>Jenson Button</td><td>69</td><td>377</td><td>5.463768115942029</td></tr><tr><td>Felipe Massa</td><td>94</td><td>427</td><td>4.542553191489362</td></tr><tr><td>Romain Grosjean</td><td>59</td><td>244</td><td>4.135593220338983</td></tr><tr><td>Sergio Pérez</td><td>116</td><td>446</td><td>3.8448275862068964</td></tr><tr><td>Carlos Sainz</td><td>65</td><td>244</td><td>3.753846153846154</td></tr><tr><td>Nico Hülkenberg</td><td>90</td><td>329</td><td>3.6555555555555554</td></tr></tbody></table></div>"
      ]
     },
     "metadata": {
      "application/vnd.databricks.v1+output": {
       "addedWidgets": {},
       "aggData": [],
       "aggError": "",
       "aggOverflow": false,
       "aggSchema": [],
       "aggSeriesLimitReached": false,
       "aggType": "",
       "arguments": {},
       "columnCustomDisplayInfos": {},
       "data": [
        [
         "Lewis Hamilton",
         177,
         1478,
         8.350282485875706
        ],
        [
         "Sebastian Vettel",
         164,
         1282,
         7.817073170731708
        ],
        [
         "Nico Rosberg",
         93,
         673,
         7.236559139784946
        ],
        [
         "Max Verstappen",
         88,
         605,
         6.875
        ],
        [
         "Valtteri Bottas",
         117,
         793,
         6.777777777777778
        ],
        [
         "Fernando Alonso",
         95,
         584,
         6.147368421052631
        ],
        [
         "Kimi Räikkönen",
         121,
         721,
         5.958677685950414
        ],
        [
         "Daniel Ricciardo",
         111,
         639,
         5.756756756756757
        ],
        [
         "Jenson Button",
         69,
         377,
         5.463768115942029
        ],
        [
         "Felipe Massa",
         94,
         427,
         4.542553191489362
        ],
        [
         "Romain Grosjean",
         59,
         244,
         4.135593220338983
        ],
        [
         "Sergio Pérez",
         116,
         446,
         3.8448275862068964
        ],
        [
         "Carlos Sainz",
         65,
         244,
         3.753846153846154
        ],
        [
         "Nico Hülkenberg",
         90,
         329,
         3.6555555555555554
        ]
       ],
       "datasetInfos": [],
       "dbfsResultPath": null,
       "isJsonSchema": true,
       "metadata": {
        "isDbfsCommandResult": false
       },
       "overflow": false,
       "plotOptions": {
        "customPlotOptions": {},
        "displayType": "table",
        "pivotAggregation": null,
        "pivotColumns": null,
        "xColumns": null,
        "yColumns": null
       },
       "removedWidgets": [],
       "schema": [
        {
         "metadata": "{}",
         "name": "driver_name",
         "type": "\"string\""
        },
        {
         "metadata": "{}",
         "name": "total_races",
         "type": "\"long\""
        },
        {
         "metadata": "{}",
         "name": "total_points",
         "type": "\"long\""
        },
        {
         "metadata": "{}",
         "name": "avg_points",
         "type": "\"double\""
        }
       ],
       "type": "table"
      }
     },
     "output_type": "display_data"
    }
   ],
   "source": [
    "SELECT driver_name,\n",
    "  COUNT(1) AS total_races,\n",
    "  SUM(calculated_points) AS total_points,\n",
    "  AVG(calculated_points) AS avg_points\n",
    "  FROM f1_presentation.calculated_race_results\n",
    "WHERE race_year BETWEEN 2011 and 2025\n",
    "GROUP BY driver_name\n",
    "HAVING total_races >= 50\n",
    "ORDER BY avg_points DESC ;"
   ]
  }
 ],
 "metadata": {
  "application/vnd.databricks.v1+notebook": {
   "computePreferences": null,
   "dashboards": [],
   "environmentMetadata": {
    "base_environment": "",
    "environment_version": "2"
   },
   "language": "sql",
   "notebookMetadata": {
    "pythonIndentUnit": 4
   },
   "notebookName": "1_find_dominant_drivers",
   "widgets": {}
  },
  "language_info": {
   "name": "sql"
  }
 },
 "nbformat": 4,
 "nbformat_minor": 0
}