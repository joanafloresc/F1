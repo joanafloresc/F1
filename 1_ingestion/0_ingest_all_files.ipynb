{
 "cells": [
  {
   "cell_type": "code",
   "execution_count": 0,
   "metadata": {
    "application/vnd.databricks.v1+cell": {
     "cellMetadata": {
      "byteLimit": 2048000,
      "rowLimit": 10000
     },
     "inputWidgets": {},
     "nuid": "1a8df40b-7591-4229-be25-19b77f8959b0",
     "showTitle": false,
     "tableResultSettingsMap": {},
     "title": ""
    }
   },
   "outputs": [],
   "source": [
    "#dbutils.notebook.help()"
   ]
  },
  {
   "cell_type": "code",
   "execution_count": 0,
   "metadata": {
    "application/vnd.databricks.v1+cell": {
     "cellMetadata": {
      "byteLimit": 2048000,
      "rowLimit": 10000
     },
     "inputWidgets": {},
     "nuid": "c72e4f34-4740-4daf-bf57-7b15aeab8ae5",
     "showTitle": false,
     "tableResultSettingsMap": {},
     "title": ""
    }
   },
   "outputs": [],
   "source": [
    "v_result = dbutils.notebook.run(\"1_ingest_circuits_file\", 0, {\"p_data_source\": \"Ergast API\"})\n",
    "v_result = dbutils.notebook.run(\"2_ingest_races_file\", 0, {\"p_data_source\": \"Ergast API\"})\n",
    "v_result = dbutils.notebook.run(\"3_ingest_constructors_json\", 0, {\"p_data_source\": \"Ergast API\"})\n",
    "v_result = dbutils.notebook.run(\"4_ingest_drivers_json\", 0, {\"p_data_source\": \"Ergast API\"})\n",
    "v_result = dbutils.notebook.run(\"5_ingest_results_json\", 0, {\"p_data_source\": \"Ergast API\"})\n",
    "v_result = dbutils.notebook.run(\"6_ingest_pitstops_json\", 0, {\"p_data_source\": \"Ergast API\"})\n",
    "v_result = dbutils.notebook.run(\"7_ingest_lap_times_folder\", 0, {\"p_data_source\": \"Ergast API\"})\n",
    "v_result = dbutils.notebook.run(\"8_ingest_qualifying_folder\", 0, {\"p_data_source\": \"Ergast API\"})"
   ]
  },
  {
   "cell_type": "code",
   "execution_count": 0,
   "metadata": {
    "application/vnd.databricks.v1+cell": {
     "cellMetadata": {
      "byteLimit": 2048000,
      "rowLimit": 10000
     },
     "inputWidgets": {},
     "nuid": "c41d225a-dfe5-4eb8-805a-67c31ce5c537",
     "showTitle": false,
     "tableResultSettingsMap": {},
     "title": ""
    }
   },
   "outputs": [],
   "source": []
  }
 ],
 "metadata": {
  "application/vnd.databricks.v1+notebook": {
   "computePreferences": null,
   "dashboards": [],
   "environmentMetadata": {
    "base_environment": "",
    "environment_version": "2"
   },
   "language": "python",
   "notebookMetadata": {
    "pythonIndentUnit": 4
   },
   "notebookName": "0_ingest_all_files",
   "widgets": {}
  },
  "language_info": {
   "name": "python"
  }
 },
 "nbformat": 4,
 "nbformat_minor": 0
}