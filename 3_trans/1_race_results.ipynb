{
 "cells": [
  {
   "cell_type": "markdown",
   "metadata": {
    "application/vnd.databricks.v1+cell": {
     "cellMetadata": {
      "byteLimit": 2048000,
      "rowLimit": 10000
     },
     "inputWidgets": {},
     "nuid": "d430e6b0-5453-4f9b-acb1-deee446672cb",
     "showTitle": false,
     "tableResultSettingsMap": {},
     "title": ""
    }
   },
   "source": [
    "## Race Results"
   ]
  },
  {
   "cell_type": "code",
   "execution_count": 0,
   "metadata": {
    "application/vnd.databricks.v1+cell": {
     "cellMetadata": {
      "byteLimit": 2048000,
      "rowLimit": 10000
     },
     "inputWidgets": {},
     "nuid": "0a9fd1dc-cdd3-4d35-a1d7-34467e540ea0",
     "showTitle": false,
     "tableResultSettingsMap": {},
     "title": ""
    }
   },
   "outputs": [],
   "source": [
    "from pyspark.sql.functions import current_timestamp"
   ]
  },
  {
   "cell_type": "code",
   "execution_count": 0,
   "metadata": {
    "application/vnd.databricks.v1+cell": {
     "cellMetadata": {
      "byteLimit": 2048000,
      "rowLimit": 10000
     },
     "inputWidgets": {},
     "nuid": "4e9976c7-a863-420e-8b15-19bf8ec7814f",
     "showTitle": false,
     "tableResultSettingsMap": {},
     "title": ""
    }
   },
   "outputs": [
    {
     "output_type": "stream",
     "name": "stdout",
     "output_type": "stream",
     "text": [
      "Out[57]: '2021-03-28'"
     ]
    }
   ],
   "source": [
    "dbutils.widgets.text(\"p_file_date\", \"2021-03-21\")\n",
    "file_date= dbutils.widgets.get(\"p_file_date\")\n",
    "file_date"
   ]
  },
  {
   "cell_type": "code",
   "execution_count": 0,
   "metadata": {
    "application/vnd.databricks.v1+cell": {
     "cellMetadata": {
      "byteLimit": 2048000,
      "rowLimit": 10000
     },
     "inputWidgets": {},
     "nuid": "11449dba-245a-400a-8f74-91a34f411b34",
     "showTitle": false,
     "tableResultSettingsMap": {},
     "title": ""
    }
   },
   "outputs": [],
   "source": [
    "%run \"../includes/configuration\""
   ]
  },
  {
   "cell_type": "code",
   "execution_count": 0,
   "metadata": {
    "application/vnd.databricks.v1+cell": {
     "cellMetadata": {
      "byteLimit": 2048000,
      "rowLimit": 10000
     },
     "inputWidgets": {},
     "nuid": "e6895c2c-544e-42d1-b05d-cdecbe9b524c",
     "showTitle": false,
     "tableResultSettingsMap": {},
     "title": ""
    }
   },
   "outputs": [],
   "source": [
    "%run \"../includes/common_functions\""
   ]
  },
  {
   "cell_type": "code",
   "execution_count": 0,
   "metadata": {
    "application/vnd.databricks.v1+cell": {
     "cellMetadata": {
      "byteLimit": 2048000,
      "rowLimit": 10000
     },
     "inputWidgets": {},
     "nuid": "4a249ba6-a1a9-4324-af0e-eb2fb87d5cb7",
     "showTitle": false,
     "tableResultSettingsMap": {},
     "title": ""
    }
   },
   "outputs": [],
   "source": [
    "# drivers_df = spark.read.parquet(f\"{processed_folder_path}/drivers\") \\\n",
    "#     .withColumnRenamed('number', 'driver_number') \\\n",
    "#     .withColumnRenamed('name', 'driver_name') \\\n",
    "#     .withColumnRenamed('nationality', 'driver_nationality')"
   ]
  },
  {
   "cell_type": "code",
   "execution_count": 0,
   "metadata": {
    "application/vnd.databricks.v1+cell": {
     "cellMetadata": {
      "byteLimit": 2048000,
      "rowLimit": 10000
     },
     "inputWidgets": {},
     "nuid": "ea5f2f19-e552-44e8-8231-b5b838ff1473",
     "showTitle": false,
     "tableResultSettingsMap": {},
     "title": ""
    }
   },
   "outputs": [],
   "source": [
    "drivers_df = spark.read.format(\"delta\").load(f\"{processed_folder_path}/drivers\") \\\n",
    "    .withColumnRenamed('number', 'driver_number') \\\n",
    "    .withColumnRenamed('name', 'driver_name') \\\n",
    "    .withColumnRenamed('nationality', 'driver_nationality')"
   ]
  },
  {
   "cell_type": "code",
   "execution_count": 0,
   "metadata": {
    "application/vnd.databricks.v1+cell": {
     "cellMetadata": {
      "byteLimit": 2048000,
      "rowLimit": 10000
     },
     "inputWidgets": {},
     "nuid": "91de3bd7-6570-4246-86b9-b5be2f331265",
     "showTitle": false,
     "tableResultSettingsMap": {},
     "title": ""
    }
   },
   "outputs": [
    {
     "output_type": "stream",
     "name": "stdout",
     "output_type": "stream",
     "text": [
      "processed\n"
     ]
    }
   ],
   "source": [
    "constructors_df = spark.read.format(\"delta\").load(f\"{processed_folder_path}/constructors\") \\\n",
    "    .withColumnRenamed('name', 'team')"
   ]
  },
  {
   "cell_type": "code",
   "execution_count": 0,
   "metadata": {
    "application/vnd.databricks.v1+cell": {
     "cellMetadata": {
      "byteLimit": 2048000,
      "rowLimit": 10000
     },
     "inputWidgets": {},
     "nuid": "35cbc98c-ed76-4c2f-8da1-9f728285a02f",
     "showTitle": false,
     "tableResultSettingsMap": {},
     "title": ""
    }
   },
   "outputs": [],
   "source": [
    "circuits_df = spark.read.format(\"delta\").load(f\"{processed_folder_path}/circuits\") \\\n",
    "    .withColumnRenamed('location', 'circuit_location')"
   ]
  },
  {
   "cell_type": "code",
   "execution_count": 0,
   "metadata": {
    "application/vnd.databricks.v1+cell": {
     "cellMetadata": {
      "byteLimit": 2048000,
      "rowLimit": 10000
     },
     "inputWidgets": {},
     "nuid": "c66f306b-2e25-4984-86f3-5db0ee1ccf3e",
     "showTitle": false,
     "tableResultSettingsMap": {},
     "title": ""
    }
   },
   "outputs": [],
   "source": [
    "races_df = spark.read.format(\"delta\").load(f\"{processed_folder_path}/races\") \\\n",
    "    .withColumnRenamed('name', 'race_name') \\\n",
    "    .withColumnRenamed('race_timestamp', 'race_date')"
   ]
  },
  {
   "cell_type": "code",
   "execution_count": 0,
   "metadata": {
    "application/vnd.databricks.v1+cell": {
     "cellMetadata": {
      "byteLimit": 2048000,
      "rowLimit": 10000
     },
     "inputWidgets": {},
     "nuid": "1214622b-d068-4773-88ad-679af2e2a053",
     "showTitle": false,
     "tableResultSettingsMap": {},
     "title": ""
    }
   },
   "outputs": [],
   "source": [
    "results_df = spark.read.format(\"delta\").load(f\"{processed_folder_path}/results\") \\\n",
    "    .filter(f\"file_date = '{file_date}'\") \\\n",
    "    .withColumnRenamed('time', 'race_time') \\\n",
    "    .withColumnRenamed('race_id', 'result_race_id') \\\n",
    "    .withColumnRenamed('file_date', 'result_file_date')"
   ]
  },
  {
   "cell_type": "code",
   "execution_count": 0,
   "metadata": {
    "application/vnd.databricks.v1+cell": {
     "cellMetadata": {
      "byteLimit": 2048000,
      "rowLimit": 10000
     },
     "inputWidgets": {},
     "nuid": "a1b40ccd-0bd8-4bdd-86da-bb53864e2cb2",
     "showTitle": false,
     "tableResultSettingsMap": {},
     "title": ""
    }
   },
   "outputs": [
    {
     "output_type": "display_data",
     "data": {
      "text/html": [
       "<style scoped>\n",
       "  .table-result-container {\n",
       "    max-height: 300px;\n",
       "    overflow: auto;\n",
       "  }\n",
       "  table, th, td {\n",
       "    border: 1px solid black;\n",
       "    border-collapse: collapse;\n",
       "  }\n",
       "  th, td {\n",
       "    padding: 5px;\n",
       "  }\n",
       "  th {\n",
       "    text-align: left;\n",
       "  }\n",
       "</style><div class='table-result-container'><table class='table-result'><thead style='background-color: white'><tr><th>result_id</th><th>driver_id</th><th>constructor_id</th><th>number</th><th>grid</th><th>position</th><th>position_text</th><th>position_order</th><th>points</th><th>laps</th><th>race_time</th><th>milliseconds</th><th>fastest_lap</th><th>rank</th><th>fastest_lap_time</th><th>fastest_lap_speed</th><th>data_source</th><th>result_file_date</th><th>ingestion_timestamp</th><th>result_race_id</th></tr></thead><tbody><tr><td>24966</td><td>1</td><td>131</td><td>44</td><td>2</td><td>1</td><td>1</td><td>1</td><td>25.0</td><td>56</td><td>1:32:03.897</td><td>5523897</td><td>44</td><td>4</td><td>1:34.015</td><td>207.235</td><td>Ergast API</td><td>2021-03-28</td><td>2025-02-27T10:00:07.967+0000</td><td>1052</td></tr><tr><td>24984</td><td>4</td><td>214</td><td>14</td><td>9</td><td>null</td><td>R</td><td>19</td><td>0.0</td><td>32</td><td>\\N</td><td>null</td><td>31</td><td>17</td><td>1:36.063</td><td>202.816</td><td>Ergast API</td><td>2021-03-28</td><td>2025-02-27T10:00:07.967+0000</td><td>1052</td></tr><tr><td>24976</td><td>8</td><td>51</td><td>7</td><td>14</td><td>11</td><td>11</td><td>11</td><td>0.0</td><td>56</td><td>+88.864</td><td>5612761</td><td>45</td><td>14</td><td>1:35.192</td><td>204.672</td><td>Ergast API</td><td>2021-03-28</td><td>2025-02-27T10:00:07.967+0000</td><td>1052</td></tr><tr><td>24980</td><td>20</td><td>117</td><td>5</td><td>20</td><td>15</td><td>15</td><td>15</td><td>0.0</td><td>55</td><td>\\N</td><td>null</td><td>26</td><td>16</td><td>1:35.566</td><td>203.871</td><td>Ergast API</td><td>2021-03-28</td><td>2025-02-27T10:00:07.967+0000</td><td>1052</td></tr><tr><td>24970</td><td>815</td><td>9</td><td>11</td><td>0</td><td>5</td><td>5</td><td>5</td><td>10.0</td><td>56</td><td>+52.047</td><td>5575944</td><td>44</td><td>3</td><td>1:33.970</td><td>207.334</td><td>Ergast API</td><td>2021-03-28</td><td>2025-02-27T10:00:07.967+0000</td><td>1052</td></tr><tr><td>24972</td><td>817</td><td>1</td><td>3</td><td>6</td><td>7</td><td>7</td><td>7</td><td>6.0</td><td>56</td><td>+66.004</td><td>5589901</td><td>36</td><td>10</td><td>1:34.932</td><td>205.233</td><td>Ergast API</td><td>2021-03-28</td><td>2025-02-27T10:00:07.967+0000</td><td>1052</td></tr><tr><td>24968</td><td>822</td><td>131</td><td>77</td><td>3</td><td>3</td><td>3</td><td>3</td><td>16.0</td><td>56</td><td>+37.383</td><td>5561280</td><td>56</td><td>1</td><td>1:32.090</td><td>211.566</td><td>Ergast API</td><td>2021-03-28</td><td>2025-02-27T10:00:07.967+0000</td><td>1052</td></tr><tr><td>24967</td><td>830</td><td>9</td><td>33</td><td>1</td><td>2</td><td>2</td><td>2</td><td>18.0</td><td>56</td><td>+0.745</td><td>5524642</td><td>41</td><td>2</td><td>1:33.228</td><td>208.984</td><td>Ergast API</td><td>2021-03-28</td><td>2025-02-27T10:00:07.967+0000</td><td>1052</td></tr><tr><td>24973</td><td>832</td><td>6</td><td>55</td><td>8</td><td>8</td><td>8</td><td>8</td><td>4.0</td><td>56</td><td>+67.100</td><td>5590997</td><td>48</td><td>7</td><td>1:34.509</td><td>206.151</td><td>Ergast API</td><td>2021-03-28</td><td>2025-02-27T10:00:07.967+0000</td><td>1052</td></tr><tr><td>24978</td><td>839</td><td>214</td><td>31</td><td>16</td><td>13</td><td>13</td><td>13</td><td>0.0</td><td>55</td><td>\\N</td><td>null</td><td>33</td><td>15</td><td>1:35.250</td><td>204.548</td><td>Ergast API</td><td>2021-03-28</td><td>2025-02-27T10:00:07.967+0000</td><td>1052</td></tr><tr><td>24975</td><td>840</td><td>117</td><td>18</td><td>10</td><td>10</td><td>10</td><td>10</td><td>1.0</td><td>56</td><td>+86.713</td><td>5610610</td><td>31</td><td>9</td><td>1:34.865</td><td>205.378</td><td>Ergast API</td><td>2021-03-28</td><td>2025-02-27T10:00:07.967+0000</td><td>1052</td></tr><tr><td>24977</td><td>841</td><td>51</td><td>99</td><td>12</td><td>12</td><td>12</td><td>12</td><td>0.0</td><td>55</td><td>\\N</td><td>null</td><td>32</td><td>13</td><td>1:35.122</td><td>204.823</td><td>Ergast API</td><td>2021-03-28</td><td>2025-02-27T10:00:07.967+0000</td><td>1052</td></tr><tr><td>24982</td><td>842</td><td>213</td><td>10</td><td>5</td><td>17</td><td>17</td><td>17</td><td>0.0</td><td>52</td><td>\\N</td><td>null</td><td>48</td><td>5</td><td>1:34.090</td><td>207.069</td><td>Ergast API</td><td>2021-03-28</td><td>2025-02-27T10:00:07.967+0000</td><td>1052</td></tr><tr><td>24971</td><td>844</td><td>6</td><td>16</td><td>4</td><td>6</td><td>6</td><td>6</td><td>8.0</td><td>56</td><td>+59.090</td><td>5582987</td><td>39</td><td>11</td><td>1:34.988</td><td>205.112</td><td>Ergast API</td><td>2021-03-28</td><td>2025-02-27T10:00:07.967+0000</td><td>1052</td></tr><tr><td>24969</td><td>846</td><td>1</td><td>4</td><td>7</td><td>4</td><td>4</td><td>4</td><td>12.0</td><td>56</td><td>+46.466</td><td>5570363</td><td>38</td><td>6</td><td>1:34.396</td><td>206.398</td><td>Ergast API</td><td>2021-03-28</td><td>2025-02-27T10:00:07.967+0000</td><td>1052</td></tr><tr><td>24979</td><td>847</td><td>3</td><td>63</td><td>15</td><td>14</td><td>14</td><td>14</td><td>0.0</td><td>55</td><td>\\N</td><td>null</td><td>40</td><td>12</td><td>1:35.036</td><td>205.008</td><td>Ergast API</td><td>2021-03-28</td><td>2025-02-27T10:00:07.967+0000</td><td>1052</td></tr><tr><td>24983</td><td>849</td><td>3</td><td>6</td><td>17</td><td>18</td><td>18</td><td>18</td><td>0.0</td><td>51</td><td>\\N</td><td>null</td><td>16</td><td>19</td><td>1:36.602</td><td>201.685</td><td>Ergast API</td><td>2021-03-28</td><td>2025-02-27T10:00:07.967+0000</td><td>1052</td></tr><tr><td>24974</td><td>852</td><td>213</td><td>22</td><td>13</td><td>9</td><td>9</td><td>9</td><td>2.0</td><td>56</td><td>+85.692</td><td>5609589</td><td>38</td><td>8</td><td>1:34.761</td><td>205.603</td><td>Ergast API</td><td>2021-03-28</td><td>2025-02-27T10:00:07.967+0000</td><td>1052</td></tr><tr><td>24985</td><td>853</td><td>210</td><td>9</td><td>19</td><td>null</td><td>R</td><td>20</td><td>0.0</td><td>0</td><td>\\N</td><td>null</td><td>null</td><td>0</td><td>\\N</td><td>\\N</td><td>Ergast API</td><td>2021-03-28</td><td>2025-02-27T10:00:07.967+0000</td><td>1052</td></tr><tr><td>24981</td><td>854</td><td>210</td><td>47</td><td>18</td><td>16</td><td>16</td><td>16</td><td>0.0</td><td>55</td><td>\\N</td><td>null</td><td>38</td><td>18</td><td>1:36.134</td><td>202.667</td><td>Ergast API</td><td>2021-03-28</td><td>2025-02-27T10:00:07.967+0000</td><td>1052</td></tr></tbody></table></div>"
      ]
     },
     "metadata": {
      "application/vnd.databricks.v1+output": {
       "addedWidgets": {},
       "aggData": [],
       "aggError": "",
       "aggOverflow": false,
       "aggSchema": [],
       "aggSeriesLimitReached": false,
       "aggType": "",
       "arguments": {},
       "columnCustomDisplayInfos": {},
       "data": [
        [
         24966,
         1,
         131,
         44,
         2,
         1,
         "1",
         1,
         25.0,
         56,
         "1:32:03.897",
         5523897,
         44,
         4,
         "1:34.015",
         "207.235",
         "Ergast API",
         "2021-03-28",
         "2025-02-27T10:00:07.967+0000",
         1052
        ],
        [
         24984,
         4,
         214,
         14,
         9,
         null,
         "R",
         19,
         0.0,
         32,
         "\\N",
         null,
         31,
         17,
         "1:36.063",
         "202.816",
         "Ergast API",
         "2021-03-28",
         "2025-02-27T10:00:07.967+0000",
         1052
        ],
        [
         24976,
         8,
         51,
         7,
         14,
         11,
         "11",
         11,
         0.0,
         56,
         "+88.864",
         5612761,
         45,
         14,
         "1:35.192",
         "204.672",
         "Ergast API",
         "2021-03-28",
         "2025-02-27T10:00:07.967+0000",
         1052
        ],
        [
         24980,
         20,
         117,
         5,
         20,
         15,
         "15",
         15,
         0.0,
         55,
         "\\N",
         null,
         26,
         16,
         "1:35.566",
         "203.871",
         "Ergast API",
         "2021-03-28",
         "2025-02-27T10:00:07.967+0000",
         1052
        ],
        [
         24970,
         815,
         9,
         11,
         0,
         5,
         "5",
         5,
         10.0,
         56,
         "+52.047",
         5575944,
         44,
         3,
         "1:33.970",
         "207.334",
         "Ergast API",
         "2021-03-28",
         "2025-02-27T10:00:07.967+0000",
         1052
        ],
        [
         24972,
         817,
         1,
         3,
         6,
         7,
         "7",
         7,
         6.0,
         56,
         "+66.004",
         5589901,
         36,
         10,
         "1:34.932",
         "205.233",
         "Ergast API",
         "2021-03-28",
         "2025-02-27T10:00:07.967+0000",
         1052
        ],
        [
         24968,
         822,
         131,
         77,
         3,
         3,
         "3",
         3,
         16.0,
         56,
         "+37.383",
         5561280,
         56,
         1,
         "1:32.090",
         "211.566",
         "Ergast API",
         "2021-03-28",
         "2025-02-27T10:00:07.967+0000",
         1052
        ],
        [
         24967,
         830,
         9,
         33,
         1,
         2,
         "2",
         2,
         18.0,
         56,
         "+0.745",
         5524642,
         41,
         2,
         "1:33.228",
         "208.984",
         "Ergast API",
         "2021-03-28",
         "2025-02-27T10:00:07.967+0000",
         1052
        ],
        [
         24973,
         832,
         6,
         55,
         8,
         8,
         "8",
         8,
         4.0,
         56,
         "+67.100",
         5590997,
         48,
         7,
         "1:34.509",
         "206.151",
         "Ergast API",
         "2021-03-28",
         "2025-02-27T10:00:07.967+0000",
         1052
        ],
        [
         24978,
         839,
         214,
         31,
         16,
         13,
         "13",
         13,
         0.0,
         55,
         "\\N",
         null,
         33,
         15,
         "1:35.250",
         "204.548",
         "Ergast API",
         "2021-03-28",
         "2025-02-27T10:00:07.967+0000",
         1052
        ],
        [
         24975,
         840,
         117,
         18,
         10,
         10,
         "10",
         10,
         1.0,
         56,
         "+86.713",
         5610610,
         31,
         9,
         "1:34.865",
         "205.378",
         "Ergast API",
         "2021-03-28",
         "2025-02-27T10:00:07.967+0000",
         1052
        ],
        [
         24977,
         841,
         51,
         99,
         12,
         12,
         "12",
         12,
         0.0,
         55,
         "\\N",
         null,
         32,
         13,
         "1:35.122",
         "204.823",
         "Ergast API",
         "2021-03-28",
         "2025-02-27T10:00:07.967+0000",
         1052
        ],
        [
         24982,
         842,
         213,
         10,
         5,
         17,
         "17",
         17,
         0.0,
         52,
         "\\N",
         null,
         48,
         5,
         "1:34.090",
         "207.069",
         "Ergast API",
         "2021-03-28",
         "2025-02-27T10:00:07.967+0000",
         1052
        ],
        [
         24971,
         844,
         6,
         16,
         4,
         6,
         "6",
         6,
         8.0,
         56,
         "+59.090",
         5582987,
         39,
         11,
         "1:34.988",
         "205.112",
         "Ergast API",
         "2021-03-28",
         "2025-02-27T10:00:07.967+0000",
         1052
        ],
        [
         24969,
         846,
         1,
         4,
         7,
         4,
         "4",
         4,
         12.0,
         56,
         "+46.466",
         5570363,
         38,
         6,
         "1:34.396",
         "206.398",
         "Ergast API",
         "2021-03-28",
         "2025-02-27T10:00:07.967+0000",
         1052
        ],
        [
         24979,
         847,
         3,
         63,
         15,
         14,
         "14",
         14,
         0.0,
         55,
         "\\N",
         null,
         40,
         12,
         "1:35.036",
         "205.008",
         "Ergast API",
         "2021-03-28",
         "2025-02-27T10:00:07.967+0000",
         1052
        ],
        [
         24983,
         849,
         3,
         6,
         17,
         18,
         "18",
         18,
         0.0,
         51,
         "\\N",
         null,
         16,
         19,
         "1:36.602",
         "201.685",
         "Ergast API",
         "2021-03-28",
         "2025-02-27T10:00:07.967+0000",
         1052
        ],
        [
         24974,
         852,
         213,
         22,
         13,
         9,
         "9",
         9,
         2.0,
         56,
         "+85.692",
         5609589,
         38,
         8,
         "1:34.761",
         "205.603",
         "Ergast API",
         "2021-03-28",
         "2025-02-27T10:00:07.967+0000",
         1052
        ],
        [
         24985,
         853,
         210,
         9,
         19,
         null,
         "R",
         20,
         0.0,
         0,
         "\\N",
         null,
         null,
         0,
         "\\N",
         "\\N",
         "Ergast API",
         "2021-03-28",
         "2025-02-27T10:00:07.967+0000",
         1052
        ],
        [
         24981,
         854,
         210,
         47,
         18,
         16,
         "16",
         16,
         0.0,
         55,
         "\\N",
         null,
         38,
         18,
         "1:36.134",
         "202.667",
         "Ergast API",
         "2021-03-28",
         "2025-02-27T10:00:07.967+0000",
         1052
        ]
       ],
       "datasetInfos": [],
       "dbfsResultPath": null,
       "isJsonSchema": true,
       "metadata": {},
       "overflow": false,
       "plotOptions": {
        "customPlotOptions": {},
        "displayType": "table",
        "pivotAggregation": null,
        "pivotColumns": null,
        "xColumns": null,
        "yColumns": null
       },
       "removedWidgets": [],
       "schema": [
        {
         "metadata": "{}",
         "name": "result_id",
         "type": "\"integer\""
        },
        {
         "metadata": "{}",
         "name": "driver_id",
         "type": "\"integer\""
        },
        {
         "metadata": "{}",
         "name": "constructor_id",
         "type": "\"integer\""
        },
        {
         "metadata": "{}",
         "name": "number",
         "type": "\"integer\""
        },
        {
         "metadata": "{}",
         "name": "grid",
         "type": "\"integer\""
        },
        {
         "metadata": "{}",
         "name": "position",
         "type": "\"integer\""
        },
        {
         "metadata": "{}",
         "name": "position_text",
         "type": "\"string\""
        },
        {
         "metadata": "{}",
         "name": "position_order",
         "type": "\"integer\""
        },
        {
         "metadata": "{}",
         "name": "points",
         "type": "\"float\""
        },
        {
         "metadata": "{}",
         "name": "laps",
         "type": "\"integer\""
        },
        {
         "metadata": "{}",
         "name": "race_time",
         "type": "\"string\""
        },
        {
         "metadata": "{}",
         "name": "milliseconds",
         "type": "\"integer\""
        },
        {
         "metadata": "{}",
         "name": "fastest_lap",
         "type": "\"integer\""
        },
        {
         "metadata": "{}",
         "name": "rank",
         "type": "\"integer\""
        },
        {
         "metadata": "{}",
         "name": "fastest_lap_time",
         "type": "\"string\""
        },
        {
         "metadata": "{}",
         "name": "fastest_lap_speed",
         "type": "\"string\""
        },
        {
         "metadata": "{}",
         "name": "data_source",
         "type": "\"string\""
        },
        {
         "metadata": "{}",
         "name": "result_file_date",
         "type": "\"string\""
        },
        {
         "metadata": "{}",
         "name": "ingestion_timestamp",
         "type": "\"timestamp\""
        },
        {
         "metadata": "{}",
         "name": "result_race_id",
         "type": "\"integer\""
        }
       ],
       "type": "table"
      }
     },
     "output_type": "display_data"
    }
   ],
   "source": [
    "display(results_df)"
   ]
  },
  {
   "cell_type": "code",
   "execution_count": 0,
   "metadata": {
    "application/vnd.databricks.v1+cell": {
     "cellMetadata": {
      "byteLimit": 2048000,
      "rowLimit": 10000
     },
     "inputWidgets": {},
     "nuid": "59492e83-dbed-4899-b247-e6d433421960",
     "showTitle": false,
     "tableResultSettingsMap": {},
     "title": ""
    }
   },
   "outputs": [],
   "source": [
    "race_circuits_df = races_df.join(circuits_df, races_df.circuit_id == circuits_df.circuit_id, how='inner') \\\n",
    "    .select(races_df.race_id, races_df.race_year, races_df.race_name, races_df.race_date, circuits_df.circuit_location)\n",
    "\n",
    "final_df = results_df.join(race_circuits_df, results_df.result_race_id == race_circuits_df.race_id, how='inner') \\\n",
    "                            .join(drivers_df, results_df.driver_id == drivers_df.driver_id, how='inner' ) \\\n",
    "                            .join(constructors_df, results_df.constructor_id == constructors_df.constructor_id, how='inner') \\\n",
    "                            .select(\"race_id\", \"race_year\", \"race_name\", \"race_date\", \"circuit_location\", \"driver_name\", \"driver_number\", \"driver_nationality\",\n",
    "                                    \"team\", \"grid\", \"fastest_lap\", \"race_time\", \"points\", \"position\", \"result_file_date\") \\\n",
    "                            .withColumn(\"created_date\", current_timestamp()) \\\n",
    "                            .withColumnRenamed(\"result_file_date\", \"file_date\")"
   ]
  },
  {
   "cell_type": "code",
   "execution_count": 0,
   "metadata": {
    "application/vnd.databricks.v1+cell": {
     "cellMetadata": {
      "byteLimit": 2048000,
      "rowLimit": 10000
     },
     "inputWidgets": {},
     "nuid": "29c6f689-6949-4519-92d9-b40811ab70a5",
     "showTitle": false,
     "tableResultSettingsMap": {},
     "title": ""
    }
   },
   "outputs": [],
   "source": [
    "#display(final_df.filter(\"race_year == 2020 and race_name == 'Abu Dhabi Grand Prix'\").orderBy(final_df.points.desc()))\n",
    "#display(final_df)"
   ]
  },
  {
   "cell_type": "code",
   "execution_count": 0,
   "metadata": {
    "application/vnd.databricks.v1+cell": {
     "cellMetadata": {
      "byteLimit": 2048000,
      "rowLimit": 10000
     },
     "inputWidgets": {},
     "nuid": "f72a189b-d156-4baa-9efa-4401cfafe9d6",
     "showTitle": false,
     "tableResultSettingsMap": {},
     "title": ""
    }
   },
   "outputs": [],
   "source": [
    "#final_df.write.mode(\"append\").parquet(f\"{presentation_folder_path}/race_results\")\n",
    "#database\n",
    "#final_df.write.mode(\"overwrite\").format('parquet').saveAsTable(\"f1_presentation.race_results\")\n",
    "\n",
    "#save_table(final_df, \"f1_presentation\", \"race_results\", \"race_id\")\n",
    "\n",
    "merge_condition = \"tgt.race_id = src.race_id AND tgt.driver_name = src.driver_name\" #should be used id instead of name\n",
    "merge_table(final_df, \"f1_presentation\", \"race_results\", \"race_id\", merge_condition)"
   ]
  },
  {
   "cell_type": "code",
   "execution_count": 0,
   "metadata": {
    "application/vnd.databricks.v1+cell": {
     "cellMetadata": {
      "byteLimit": 2048000,
      "implicitDf": true,
      "rowLimit": 10000
     },
     "inputWidgets": {},
     "nuid": "4a8653bd-a6b9-4e04-b94b-dc2b0ffedc8c",
     "showTitle": false,
     "tableResultSettingsMap": {},
     "title": ""
    }
   },
   "outputs": [],
   "source": [
    "%sql\n",
    "--DROP TABLE f1_presentation.race_results"
   ]
  }
 ],
 "metadata": {
  "application/vnd.databricks.v1+notebook": {
   "computePreferences": null,
   "dashboards": [],
   "environmentMetadata": {
    "base_environment": "",
    "environment_version": "2"
   },
   "language": "python",
   "notebookMetadata": {
    "mostRecentlyExecutedCommandWithImplicitDF": {
     "commandId": -1,
     "dataframes": [
      "_sqldf"
     ]
    },
    "pythonIndentUnit": 4
   },
   "notebookName": "1_race_results",
   "widgets": {
    "p_file_date": {
     "currentValue": "2021-03-28",
     "nuid": "52865074-3511-4aa3-94d0-aae84f4a4798",
     "typedWidgetInfo": {
      "autoCreated": false,
      "defaultValue": "2021-03-21",
      "label": null,
      "name": "p_file_date",
      "options": {
       "widgetDisplayType": "Text",
       "validationRegex": null
      },
      "parameterDataType": "String"
     },
     "widgetInfo": {
      "widgetType": "text",
      "defaultValue": "2021-03-21",
      "label": null,
      "name": "p_file_date",
      "options": {
       "widgetType": "text",
       "autoCreated": null,
       "validationRegex": null
      }
     }
    }
   }
  },
  "language_info": {
   "name": "python"
  }
 },
 "nbformat": 4,
 "nbformat_minor": 0
}