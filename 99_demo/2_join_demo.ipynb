{
 "cells": [
  {
   "cell_type": "markdown",
   "metadata": {
    "application/vnd.databricks.v1+cell": {
     "cellMetadata": {},
     "inputWidgets": {},
     "nuid": "c883fc6e-8b75-4dca-99f9-9161cc0d8c91",
     "showTitle": false,
     "tableResultSettingsMap": {},
     "title": ""
    }
   },
   "source": [
    "## Spark Join Transformations"
   ]
  },
  {
   "cell_type": "code",
   "execution_count": 0,
   "metadata": {
    "application/vnd.databricks.v1+cell": {
     "cellMetadata": {
      "byteLimit": 2048000,
      "rowLimit": 10000
     },
     "inputWidgets": {},
     "nuid": "9e1c540c-09f0-44f0-98fd-9c0591e7df9f",
     "showTitle": false,
     "tableResultSettingsMap": {},
     "title": ""
    }
   },
   "outputs": [],
   "source": [
    "%run \"../includes/configuration\""
   ]
  },
  {
   "cell_type": "code",
   "execution_count": 0,
   "metadata": {
    "application/vnd.databricks.v1+cell": {
     "cellMetadata": {},
     "inputWidgets": {},
     "nuid": "cdb2c87b-06c9-485e-ae3c-f67b39113691",
     "showTitle": false,
     "tableResultSettingsMap": {},
     "title": ""
    }
   },
   "outputs": [],
   "source": [
    "races_df = spark.read.parquet(f\"{processed_folder_path}/races\").filter(\"race_year == 2019\").withColumnRenamed(\"name\", \"race_name\")\n",
    "circuits_df = spark.read.parquet(f\"{processed_folder_path}/circuits\").withColumnRenamed(\"name\", \"circuit_name\")"
   ]
  },
  {
   "cell_type": "code",
   "execution_count": 0,
   "metadata": {
    "application/vnd.databricks.v1+cell": {
     "cellMetadata": {
      "byteLimit": 2048000,
      "rowLimit": 10000
     },
     "inputWidgets": {},
     "nuid": "303fe2a1-0a01-4826-8a23-abcf5b016eb7",
     "showTitle": false,
     "tableResultSettingsMap": {},
     "title": ""
    }
   },
   "outputs": [
    {
     "output_type": "display_data",
     "data": {
      "text/html": [
       "<style scoped>\n",
       "  .table-result-container {\n",
       "    max-height: 300px;\n",
       "    overflow: auto;\n",
       "  }\n",
       "  table, th, td {\n",
       "    border: 1px solid black;\n",
       "    border-collapse: collapse;\n",
       "  }\n",
       "  th, td {\n",
       "    padding: 5px;\n",
       "  }\n",
       "  th {\n",
       "    text-align: left;\n",
       "  }\n",
       "</style><div class='table-result-container'><table class='table-result'><thead style='background-color: white'><tr><th>circuit_name</th><th>location</th><th>country</th><th>race_name</th><th>round</th></tr></thead><tbody><tr><td>Albert Park Grand Prix Circuit</td><td>Melbourne</td><td>Australia</td><td>Australian Grand Prix</td><td>1</td></tr><tr><td>Bahrain International Circuit</td><td>Sakhir</td><td>Bahrain</td><td>Bahrain Grand Prix</td><td>2</td></tr><tr><td>Shanghai International Circuit</td><td>Shanghai</td><td>China</td><td>Chinese Grand Prix</td><td>3</td></tr><tr><td>Baku City Circuit</td><td>Baku</td><td>Azerbaijan</td><td>Azerbaijan Grand Prix</td><td>4</td></tr><tr><td>Circuit de Barcelona-Catalunya</td><td>Montmeló</td><td>Spain</td><td>Spanish Grand Prix</td><td>5</td></tr><tr><td>Circuit de Monaco</td><td>Monte-Carlo</td><td>Monaco</td><td>Monaco Grand Prix</td><td>6</td></tr><tr><td>Circuit Gilles Villeneuve</td><td>Montreal</td><td>Canada</td><td>Canadian Grand Prix</td><td>7</td></tr><tr><td>Circuit Paul Ricard</td><td>Le Castellet</td><td>France</td><td>French Grand Prix</td><td>8</td></tr><tr><td>Red Bull Ring</td><td>Spielburg</td><td>Austria</td><td>Austrian Grand Prix</td><td>9</td></tr><tr><td>Silverstone Circuit</td><td>Silverstone</td><td>UK</td><td>British Grand Prix</td><td>10</td></tr><tr><td>Hockenheimring</td><td>Hockenheim</td><td>Germany</td><td>German Grand Prix</td><td>11</td></tr><tr><td>Hungaroring</td><td>Budapest</td><td>Hungary</td><td>Hungarian Grand Prix</td><td>12</td></tr><tr><td>Circuit de Spa-Francorchamps</td><td>Spa</td><td>Belgium</td><td>Belgian Grand Prix</td><td>13</td></tr><tr><td>Autodromo Nazionale di Monza</td><td>Monza</td><td>Italy</td><td>Italian Grand Prix</td><td>14</td></tr><tr><td>Marina Bay Street Circuit</td><td>Marina Bay</td><td>Singapore</td><td>Singapore Grand Prix</td><td>15</td></tr><tr><td>Sochi Autodrom</td><td>Sochi</td><td>Russia</td><td>Russian Grand Prix</td><td>16</td></tr><tr><td>Suzuka Circuit</td><td>Suzuka</td><td>Japan</td><td>Japanese Grand Prix</td><td>17</td></tr><tr><td>Autódromo Hermanos Rodríguez</td><td>Mexico City</td><td>Mexico</td><td>Mexican Grand Prix</td><td>18</td></tr><tr><td>Circuit of the Americas</td><td>Austin</td><td>USA</td><td>United States Grand Prix</td><td>19</td></tr><tr><td>Autódromo José Carlos Pace</td><td>São Paulo</td><td>Brazil</td><td>Brazilian Grand Prix</td><td>20</td></tr><tr><td>Yas Marina Circuit</td><td>Abu Dhabi</td><td>UAE</td><td>Abu Dhabi Grand Prix</td><td>21</td></tr></tbody></table></div>"
      ]
     },
     "metadata": {
      "application/vnd.databricks.v1+output": {
       "addedWidgets": {},
       "aggData": [],
       "aggError": "",
       "aggOverflow": false,
       "aggSchema": [],
       "aggSeriesLimitReached": false,
       "aggType": "",
       "arguments": {},
       "columnCustomDisplayInfos": {},
       "data": [
        [
         "Albert Park Grand Prix Circuit",
         "Melbourne",
         "Australia",
         "Australian Grand Prix",
         1
        ],
        [
         "Bahrain International Circuit",
         "Sakhir",
         "Bahrain",
         "Bahrain Grand Prix",
         2
        ],
        [
         "Shanghai International Circuit",
         "Shanghai",
         "China",
         "Chinese Grand Prix",
         3
        ],
        [
         "Baku City Circuit",
         "Baku",
         "Azerbaijan",
         "Azerbaijan Grand Prix",
         4
        ],
        [
         "Circuit de Barcelona-Catalunya",
         "Montmeló",
         "Spain",
         "Spanish Grand Prix",
         5
        ],
        [
         "Circuit de Monaco",
         "Monte-Carlo",
         "Monaco",
         "Monaco Grand Prix",
         6
        ],
        [
         "Circuit Gilles Villeneuve",
         "Montreal",
         "Canada",
         "Canadian Grand Prix",
         7
        ],
        [
         "Circuit Paul Ricard",
         "Le Castellet",
         "France",
         "French Grand Prix",
         8
        ],
        [
         "Red Bull Ring",
         "Spielburg",
         "Austria",
         "Austrian Grand Prix",
         9
        ],
        [
         "Silverstone Circuit",
         "Silverstone",
         "UK",
         "British Grand Prix",
         10
        ],
        [
         "Hockenheimring",
         "Hockenheim",
         "Germany",
         "German Grand Prix",
         11
        ],
        [
         "Hungaroring",
         "Budapest",
         "Hungary",
         "Hungarian Grand Prix",
         12
        ],
        [
         "Circuit de Spa-Francorchamps",
         "Spa",
         "Belgium",
         "Belgian Grand Prix",
         13
        ],
        [
         "Autodromo Nazionale di Monza",
         "Monza",
         "Italy",
         "Italian Grand Prix",
         14
        ],
        [
         "Marina Bay Street Circuit",
         "Marina Bay",
         "Singapore",
         "Singapore Grand Prix",
         15
        ],
        [
         "Sochi Autodrom",
         "Sochi",
         "Russia",
         "Russian Grand Prix",
         16
        ],
        [
         "Suzuka Circuit",
         "Suzuka",
         "Japan",
         "Japanese Grand Prix",
         17
        ],
        [
         "Autódromo Hermanos Rodríguez",
         "Mexico City",
         "Mexico",
         "Mexican Grand Prix",
         18
        ],
        [
         "Circuit of the Americas",
         "Austin",
         "USA",
         "United States Grand Prix",
         19
        ],
        [
         "Autódromo José Carlos Pace",
         "São Paulo",
         "Brazil",
         "Brazilian Grand Prix",
         20
        ],
        [
         "Yas Marina Circuit",
         "Abu Dhabi",
         "UAE",
         "Abu Dhabi Grand Prix",
         21
        ]
       ],
       "datasetInfos": [],
       "dbfsResultPath": null,
       "isJsonSchema": true,
       "metadata": {},
       "overflow": false,
       "plotOptions": {
        "customPlotOptions": {},
        "displayType": "table",
        "pivotAggregation": null,
        "pivotColumns": null,
        "xColumns": null,
        "yColumns": null
       },
       "removedWidgets": [],
       "schema": [
        {
         "metadata": "{}",
         "name": "circuit_name",
         "type": "\"string\""
        },
        {
         "metadata": "{}",
         "name": "location",
         "type": "\"string\""
        },
        {
         "metadata": "{}",
         "name": "country",
         "type": "\"string\""
        },
        {
         "metadata": "{}",
         "name": "race_name",
         "type": "\"string\""
        },
        {
         "metadata": "{}",
         "name": "round",
         "type": "\"integer\""
        }
       ],
       "type": "table"
      }
     },
     "output_type": "display_data"
    }
   ],
   "source": [
    "# Inner join\n",
    "race_ctr = circuits_df.join(races_df, circuits_df.circuit_id == races_df.circuit_id, \"inner\") \\\n",
    "    .select(circuits_df.circuit_name, circuits_df.location, circuits_df.country, races_df.race_name, races_df.round)\n",
    "display(race_ctr)"
   ]
  },
  {
   "cell_type": "code",
   "execution_count": 0,
   "metadata": {
    "application/vnd.databricks.v1+cell": {
     "cellMetadata": {
      "byteLimit": 2048000,
      "rowLimit": 10000
     },
     "inputWidgets": {},
     "nuid": "61b931b9-b9ee-4d58-b61e-6b4094565b13",
     "showTitle": false,
     "tableResultSettingsMap": {},
     "title": ""
    }
   },
   "outputs": [
    {
     "output_type": "display_data",
     "data": {
      "text/html": [
       "<style scoped>\n",
       "  .table-result-container {\n",
       "    max-height: 300px;\n",
       "    overflow: auto;\n",
       "  }\n",
       "  table, th, td {\n",
       "    border: 1px solid black;\n",
       "    border-collapse: collapse;\n",
       "  }\n",
       "  th, td {\n",
       "    padding: 5px;\n",
       "  }\n",
       "  th {\n",
       "    text-align: left;\n",
       "  }\n",
       "</style><div class='table-result-container'><table class='table-result'><thead style='background-color: white'><tr><th>circuit_name</th><th>location</th><th>country</th><th>race_name</th><th>round</th></tr></thead><tbody><tr><td>Albert Park Grand Prix Circuit</td><td>Melbourne</td><td>Australia</td><td>Australian Grand Prix</td><td>1</td></tr><tr><td>Sepang International Circuit</td><td>Kuala Lumpur</td><td>Malaysia</td><td>null</td><td>null</td></tr><tr><td>Bahrain International Circuit</td><td>Sakhir</td><td>Bahrain</td><td>Bahrain Grand Prix</td><td>2</td></tr><tr><td>Circuit de Barcelona-Catalunya</td><td>Montmeló</td><td>Spain</td><td>Spanish Grand Prix</td><td>5</td></tr><tr><td>Istanbul Park</td><td>Istanbul</td><td>Turkey</td><td>null</td><td>null</td></tr><tr><td>Circuit de Monaco</td><td>Monte-Carlo</td><td>Monaco</td><td>Monaco Grand Prix</td><td>6</td></tr><tr><td>Circuit Gilles Villeneuve</td><td>Montreal</td><td>Canada</td><td>Canadian Grand Prix</td><td>7</td></tr><tr><td>Circuit de Nevers Magny-Cours</td><td>Magny Cours</td><td>France</td><td>null</td><td>null</td></tr><tr><td>Silverstone Circuit</td><td>Silverstone</td><td>UK</td><td>British Grand Prix</td><td>10</td></tr><tr><td>Hockenheimring</td><td>Hockenheim</td><td>Germany</td><td>German Grand Prix</td><td>11</td></tr><tr><td>Hungaroring</td><td>Budapest</td><td>Hungary</td><td>Hungarian Grand Prix</td><td>12</td></tr><tr><td>Valencia Street Circuit</td><td>Valencia</td><td>Spain</td><td>null</td><td>null</td></tr><tr><td>Circuit de Spa-Francorchamps</td><td>Spa</td><td>Belgium</td><td>Belgian Grand Prix</td><td>13</td></tr><tr><td>Autodromo Nazionale di Monza</td><td>Monza</td><td>Italy</td><td>Italian Grand Prix</td><td>14</td></tr><tr><td>Marina Bay Street Circuit</td><td>Marina Bay</td><td>Singapore</td><td>Singapore Grand Prix</td><td>15</td></tr><tr><td>Fuji Speedway</td><td>Oyama</td><td>Japan</td><td>null</td><td>null</td></tr><tr><td>Shanghai International Circuit</td><td>Shanghai</td><td>China</td><td>Chinese Grand Prix</td><td>3</td></tr><tr><td>Autódromo José Carlos Pace</td><td>São Paulo</td><td>Brazil</td><td>Brazilian Grand Prix</td><td>20</td></tr><tr><td>Indianapolis Motor Speedway</td><td>Indianapolis</td><td>USA</td><td>null</td><td>null</td></tr><tr><td>Nürburgring</td><td>Nürburg</td><td>Germany</td><td>null</td><td>null</td></tr><tr><td>Autodromo Enzo e Dino Ferrari</td><td>Imola</td><td>Italy</td><td>null</td><td>null</td></tr><tr><td>Suzuka Circuit</td><td>Suzuka</td><td>Japan</td><td>Japanese Grand Prix</td><td>17</td></tr><tr><td>A1-Ring</td><td>Spielburg</td><td>Austria</td><td>null</td><td>null</td></tr><tr><td>Yas Marina Circuit</td><td>Abu Dhabi</td><td>UAE</td><td>Abu Dhabi Grand Prix</td><td>21</td></tr><tr><td>Autódromo Juan y Oscar Gálvez</td><td>Buenos Aires</td><td>Argentina</td><td>null</td><td>null</td></tr><tr><td>Circuito de Jerez</td><td>Jerez de la Frontera</td><td>Spain</td><td>null</td><td>null</td></tr><tr><td>Autódromo do Estoril</td><td>Estoril</td><td>Portugal</td><td>null</td><td>null</td></tr><tr><td>Okayama International Circuit</td><td>Okayama</td><td>Japan</td><td>null</td><td>null</td></tr><tr><td>Adelaide Street Circuit</td><td>Adelaide</td><td>Australia</td><td>null</td><td>null</td></tr><tr><td>Kyalami</td><td>Midrand</td><td>South Africa</td><td>null</td><td>null</td></tr><tr><td>Donington Park</td><td>Castle Donington</td><td>UK</td><td>null</td><td>null</td></tr><tr><td>Autódromo Hermanos Rodríguez</td><td>Mexico City</td><td>Mexico</td><td>Mexican Grand Prix</td><td>18</td></tr><tr><td>Phoenix street circuit</td><td>Phoenix</td><td>USA</td><td>null</td><td>null</td></tr><tr><td>Circuit Paul Ricard</td><td>Le Castellet</td><td>France</td><td>French Grand Prix</td><td>8</td></tr><tr><td>Korean International Circuit</td><td>Yeongam County</td><td>Korea</td><td>null</td><td>null</td></tr><tr><td>Autódromo Internacional Nelson Piquet</td><td>Rio de Janeiro</td><td>Brazil</td><td>null</td><td>null</td></tr><tr><td>Detroit Street Circuit</td><td>Detroit</td><td>USA</td><td>null</td><td>null</td></tr><tr><td>Brands Hatch</td><td>Kent</td><td>UK</td><td>null</td><td>null</td></tr><tr><td>Circuit Park Zandvoort</td><td>Zandvoort</td><td>Netherlands</td><td>null</td><td>null</td></tr><tr><td>Zolder</td><td>Heusden-Zolder</td><td>Belgium</td><td>null</td><td>null</td></tr><tr><td>Dijon-Prenois</td><td>Dijon</td><td>France</td><td>null</td><td>null</td></tr><tr><td>Fair Park</td><td>Dallas</td><td>USA</td><td>null</td><td>null</td></tr><tr><td>Long Beach</td><td>California</td><td>USA</td><td>null</td><td>null</td></tr><tr><td>Las Vegas Street Circuit</td><td>Nevada</td><td>USA</td><td>null</td><td>null</td></tr><tr><td>Jarama</td><td>Madrid</td><td>Spain</td><td>null</td><td>null</td></tr><tr><td>Watkins Glen</td><td>New York State</td><td>USA</td><td>null</td><td>null</td></tr><tr><td>Scandinavian Raceway</td><td>Anderstorp</td><td>Sweden</td><td>null</td><td>null</td></tr><tr><td>Mosport International Raceway</td><td>Ontario</td><td>Canada</td><td>null</td><td>null</td></tr><tr><td>Montjuïc</td><td>Barcelona</td><td>Spain</td><td>null</td><td>null</td></tr><tr><td>Nivelles-Baulers</td><td>Brussels</td><td>Belgium</td><td>null</td><td>null</td></tr><tr><td>Charade Circuit</td><td>Clermont-Ferrand</td><td>France</td><td>null</td><td>null</td></tr><tr><td>Circuit Mont-Tremblant</td><td>Quebec</td><td>Canada</td><td>null</td><td>null</td></tr><tr><td>Rouen-Les-Essarts</td><td>Rouen</td><td>France</td><td>null</td><td>null</td></tr><tr><td>Le Mans</td><td>Le Mans</td><td>France</td><td>null</td><td>null</td></tr><tr><td>Reims-Gueux</td><td>Reims</td><td>France</td><td>null</td><td>null</td></tr><tr><td>Prince George Circuit</td><td>Eastern Cape Province</td><td>South Africa</td><td>null</td><td>null</td></tr><tr><td>Zeltweg</td><td>Styria</td><td>Austria</td><td>null</td><td>null</td></tr><tr><td>Aintree</td><td>Liverpool</td><td>UK</td><td>null</td><td>null</td></tr><tr><td>Circuito da Boavista</td><td>Oporto</td><td>Portugal</td><td>null</td><td>null</td></tr><tr><td>Riverside International Raceway</td><td>California</td><td>USA</td><td>null</td><td>null</td></tr><tr><td>AVUS</td><td>Berlin</td><td>Germany</td><td>null</td><td>null</td></tr><tr><td>Monsanto Park Circuit</td><td>Lisbon</td><td>Portugal</td><td>null</td><td>null</td></tr><tr><td>Sebring International Raceway</td><td>Florida</td><td>USA</td><td>null</td><td>null</td></tr><tr><td>Ain Diab</td><td>Casablanca</td><td>Morocco</td><td>null</td><td>null</td></tr><tr><td>Pescara Circuit</td><td>Pescara</td><td>Italy</td><td>null</td><td>null</td></tr><tr><td>Circuit Bremgarten</td><td>Bern</td><td>Switzerland</td><td>null</td><td>null</td></tr><tr><td>Circuit de Pedralbes</td><td>Barcelona</td><td>Spain</td><td>null</td><td>null</td></tr><tr><td>Buddh International Circuit</td><td>Uttar Pradesh</td><td>India</td><td>null</td><td>null</td></tr><tr><td>Circuit of the Americas</td><td>Austin</td><td>USA</td><td>United States Grand Prix</td><td>19</td></tr></tbody></table></div>"
      ]
     },
     "metadata": {
      "application/vnd.databricks.v1+output": {
       "addedWidgets": {},
       "aggData": [],
       "aggError": "",
       "aggOverflow": false,
       "aggSchema": [],
       "aggSeriesLimitReached": false,
       "aggType": "",
       "arguments": {},
       "columnCustomDisplayInfos": {},
       "data": [
        [
         "Albert Park Grand Prix Circuit",
         "Melbourne",
         "Australia",
         "Australian Grand Prix",
         1
        ],
        [
         "Sepang International Circuit",
         "Kuala Lumpur",
         "Malaysia",
         null,
         null
        ],
        [
         "Bahrain International Circuit",
         "Sakhir",
         "Bahrain",
         "Bahrain Grand Prix",
         2
        ],
        [
         "Circuit de Barcelona-Catalunya",
         "Montmeló",
         "Spain",
         "Spanish Grand Prix",
         5
        ],
        [
         "Istanbul Park",
         "Istanbul",
         "Turkey",
         null,
         null
        ],
        [
         "Circuit de Monaco",
         "Monte-Carlo",
         "Monaco",
         "Monaco Grand Prix",
         6
        ],
        [
         "Circuit Gilles Villeneuve",
         "Montreal",
         "Canada",
         "Canadian Grand Prix",
         7
        ],
        [
         "Circuit de Nevers Magny-Cours",
         "Magny Cours",
         "France",
         null,
         null
        ],
        [
         "Silverstone Circuit",
         "Silverstone",
         "UK",
         "British Grand Prix",
         10
        ],
        [
         "Hockenheimring",
         "Hockenheim",
         "Germany",
         "German Grand Prix",
         11
        ],
        [
         "Hungaroring",
         "Budapest",
         "Hungary",
         "Hungarian Grand Prix",
         12
        ],
        [
         "Valencia Street Circuit",
         "Valencia",
         "Spain",
         null,
         null
        ],
        [
         "Circuit de Spa-Francorchamps",
         "Spa",
         "Belgium",
         "Belgian Grand Prix",
         13
        ],
        [
         "Autodromo Nazionale di Monza",
         "Monza",
         "Italy",
         "Italian Grand Prix",
         14
        ],
        [
         "Marina Bay Street Circuit",
         "Marina Bay",
         "Singapore",
         "Singapore Grand Prix",
         15
        ],
        [
         "Fuji Speedway",
         "Oyama",
         "Japan",
         null,
         null
        ],
        [
         "Shanghai International Circuit",
         "Shanghai",
         "China",
         "Chinese Grand Prix",
         3
        ],
        [
         "Autódromo José Carlos Pace",
         "São Paulo",
         "Brazil",
         "Brazilian Grand Prix",
         20
        ],
        [
         "Indianapolis Motor Speedway",
         "Indianapolis",
         "USA",
         null,
         null
        ],
        [
         "Nürburgring",
         "Nürburg",
         "Germany",
         null,
         null
        ],
        [
         "Autodromo Enzo e Dino Ferrari",
         "Imola",
         "Italy",
         null,
         null
        ],
        [
         "Suzuka Circuit",
         "Suzuka",
         "Japan",
         "Japanese Grand Prix",
         17
        ],
        [
         "A1-Ring",
         "Spielburg",
         "Austria",
         null,
         null
        ],
        [
         "Yas Marina Circuit",
         "Abu Dhabi",
         "UAE",
         "Abu Dhabi Grand Prix",
         21
        ],
        [
         "Autódromo Juan y Oscar Gálvez",
         "Buenos Aires",
         "Argentina",
         null,
         null
        ],
        [
         "Circuito de Jerez",
         "Jerez de la Frontera",
         "Spain",
         null,
         null
        ],
        [
         "Autódromo do Estoril",
         "Estoril",
         "Portugal",
         null,
         null
        ],
        [
         "Okayama International Circuit",
         "Okayama",
         "Japan",
         null,
         null
        ],
        [
         "Adelaide Street Circuit",
         "Adelaide",
         "Australia",
         null,
         null
        ],
        [
         "Kyalami",
         "Midrand",
         "South Africa",
         null,
         null
        ],
        [
         "Donington Park",
         "Castle Donington",
         "UK",
         null,
         null
        ],
        [
         "Autódromo Hermanos Rodríguez",
         "Mexico City",
         "Mexico",
         "Mexican Grand Prix",
         18
        ],
        [
         "Phoenix street circuit",
         "Phoenix",
         "USA",
         null,
         null
        ],
        [
         "Circuit Paul Ricard",
         "Le Castellet",
         "France",
         "French Grand Prix",
         8
        ],
        [
         "Korean International Circuit",
         "Yeongam County",
         "Korea",
         null,
         null
        ],
        [
         "Autódromo Internacional Nelson Piquet",
         "Rio de Janeiro",
         "Brazil",
         null,
         null
        ],
        [
         "Detroit Street Circuit",
         "Detroit",
         "USA",
         null,
         null
        ],
        [
         "Brands Hatch",
         "Kent",
         "UK",
         null,
         null
        ],
        [
         "Circuit Park Zandvoort",
         "Zandvoort",
         "Netherlands",
         null,
         null
        ],
        [
         "Zolder",
         "Heusden-Zolder",
         "Belgium",
         null,
         null
        ],
        [
         "Dijon-Prenois",
         "Dijon",
         "France",
         null,
         null
        ],
        [
         "Fair Park",
         "Dallas",
         "USA",
         null,
         null
        ],
        [
         "Long Beach",
         "California",
         "USA",
         null,
         null
        ],
        [
         "Las Vegas Street Circuit",
         "Nevada",
         "USA",
         null,
         null
        ],
        [
         "Jarama",
         "Madrid",
         "Spain",
         null,
         null
        ],
        [
         "Watkins Glen",
         "New York State",
         "USA",
         null,
         null
        ],
        [
         "Scandinavian Raceway",
         "Anderstorp",
         "Sweden",
         null,
         null
        ],
        [
         "Mosport International Raceway",
         "Ontario",
         "Canada",
         null,
         null
        ],
        [
         "Montjuïc",
         "Barcelona",
         "Spain",
         null,
         null
        ],
        [
         "Nivelles-Baulers",
         "Brussels",
         "Belgium",
         null,
         null
        ],
        [
         "Charade Circuit",
         "Clermont-Ferrand",
         "France",
         null,
         null
        ],
        [
         "Circuit Mont-Tremblant",
         "Quebec",
         "Canada",
         null,
         null
        ],
        [
         "Rouen-Les-Essarts",
         "Rouen",
         "France",
         null,
         null
        ],
        [
         "Le Mans",
         "Le Mans",
         "France",
         null,
         null
        ],
        [
         "Reims-Gueux",
         "Reims",
         "France",
         null,
         null
        ],
        [
         "Prince George Circuit",
         "Eastern Cape Province",
         "South Africa",
         null,
         null
        ],
        [
         "Zeltweg",
         "Styria",
         "Austria",
         null,
         null
        ],
        [
         "Aintree",
         "Liverpool",
         "UK",
         null,
         null
        ],
        [
         "Circuito da Boavista",
         "Oporto",
         "Portugal",
         null,
         null
        ],
        [
         "Riverside International Raceway",
         "California",
         "USA",
         null,
         null
        ],
        [
         "AVUS",
         "Berlin",
         "Germany",
         null,
         null
        ],
        [
         "Monsanto Park Circuit",
         "Lisbon",
         "Portugal",
         null,
         null
        ],
        [
         "Sebring International Raceway",
         "Florida",
         "USA",
         null,
         null
        ],
        [
         "Ain Diab",
         "Casablanca",
         "Morocco",
         null,
         null
        ],
        [
         "Pescara Circuit",
         "Pescara",
         "Italy",
         null,
         null
        ],
        [
         "Circuit Bremgarten",
         "Bern",
         "Switzerland",
         null,
         null
        ],
        [
         "Circuit de Pedralbes",
         "Barcelona",
         "Spain",
         null,
         null
        ],
        [
         "Buddh International Circuit",
         "Uttar Pradesh",
         "India",
         null,
         null
        ],
        [
         "Circuit of the Americas",
         "Austin",
         "USA",
         "United States Grand Prix",
         19
        ]
       ],
       "datasetInfos": [],
       "dbfsResultPath": null,
       "isJsonSchema": true,
       "metadata": {},
       "overflow": false,
       "plotOptions": {
        "customPlotOptions": {},
        "displayType": "table",
        "pivotAggregation": null,
        "pivotColumns": null,
        "xColumns": null,
        "yColumns": null
       },
       "removedWidgets": [],
       "schema": [
        {
         "metadata": "{}",
         "name": "circuit_name",
         "type": "\"string\""
        },
        {
         "metadata": "{}",
         "name": "location",
         "type": "\"string\""
        },
        {
         "metadata": "{}",
         "name": "country",
         "type": "\"string\""
        },
        {
         "metadata": "{}",
         "name": "race_name",
         "type": "\"string\""
        },
        {
         "metadata": "{}",
         "name": "round",
         "type": "\"integer\""
        }
       ],
       "type": "table"
      }
     },
     "output_type": "display_data"
    }
   ],
   "source": [
    "# Left Outer join\n",
    "circuits_df = spark.read.parquet(f\"{processed_folder_path}/circuits\").filter(\"circuit_id < 70\").withColumnRenamed(\"name\", \"circuit_name\")\n",
    "\n",
    "race_ctr = circuits_df.join(races_df, circuits_df.circuit_id == races_df.circuit_id, \"left\") \\\n",
    "    .select(circuits_df.circuit_name, circuits_df.location, circuits_df.country, races_df.race_name, races_df.round)\n",
    "display(race_ctr)"
   ]
  },
  {
   "cell_type": "code",
   "execution_count": 0,
   "metadata": {
    "application/vnd.databricks.v1+cell": {
     "cellMetadata": {
      "byteLimit": 2048000,
      "rowLimit": 10000
     },
     "inputWidgets": {},
     "nuid": "ad7ef011-a017-4b9c-a1c0-fbfa614a79ac",
     "showTitle": false,
     "tableResultSettingsMap": {},
     "title": ""
    }
   },
   "outputs": [
    {
     "output_type": "display_data",
     "data": {
      "text/html": [
       "<style scoped>\n",
       "  .table-result-container {\n",
       "    max-height: 300px;\n",
       "    overflow: auto;\n",
       "  }\n",
       "  table, th, td {\n",
       "    border: 1px solid black;\n",
       "    border-collapse: collapse;\n",
       "  }\n",
       "  th, td {\n",
       "    padding: 5px;\n",
       "  }\n",
       "  th {\n",
       "    text-align: left;\n",
       "  }\n",
       "</style><div class='table-result-container'><table class='table-result'><thead style='background-color: white'><tr><th>circuit_name</th><th>location</th><th>country</th><th>race_name</th><th>round</th></tr></thead><tbody><tr><td>Albert Park Grand Prix Circuit</td><td>Melbourne</td><td>Australia</td><td>Australian Grand Prix</td><td>1</td></tr><tr><td>Bahrain International Circuit</td><td>Sakhir</td><td>Bahrain</td><td>Bahrain Grand Prix</td><td>2</td></tr><tr><td>Shanghai International Circuit</td><td>Shanghai</td><td>China</td><td>Chinese Grand Prix</td><td>3</td></tr><tr><td>null</td><td>null</td><td>null</td><td>Azerbaijan Grand Prix</td><td>4</td></tr><tr><td>Circuit de Barcelona-Catalunya</td><td>Montmeló</td><td>Spain</td><td>Spanish Grand Prix</td><td>5</td></tr><tr><td>Circuit de Monaco</td><td>Monte-Carlo</td><td>Monaco</td><td>Monaco Grand Prix</td><td>6</td></tr><tr><td>Circuit Gilles Villeneuve</td><td>Montreal</td><td>Canada</td><td>Canadian Grand Prix</td><td>7</td></tr><tr><td>Circuit Paul Ricard</td><td>Le Castellet</td><td>France</td><td>French Grand Prix</td><td>8</td></tr><tr><td>null</td><td>null</td><td>null</td><td>Austrian Grand Prix</td><td>9</td></tr><tr><td>Silverstone Circuit</td><td>Silverstone</td><td>UK</td><td>British Grand Prix</td><td>10</td></tr><tr><td>Hockenheimring</td><td>Hockenheim</td><td>Germany</td><td>German Grand Prix</td><td>11</td></tr><tr><td>Hungaroring</td><td>Budapest</td><td>Hungary</td><td>Hungarian Grand Prix</td><td>12</td></tr><tr><td>Circuit de Spa-Francorchamps</td><td>Spa</td><td>Belgium</td><td>Belgian Grand Prix</td><td>13</td></tr><tr><td>Autodromo Nazionale di Monza</td><td>Monza</td><td>Italy</td><td>Italian Grand Prix</td><td>14</td></tr><tr><td>Marina Bay Street Circuit</td><td>Marina Bay</td><td>Singapore</td><td>Singapore Grand Prix</td><td>15</td></tr><tr><td>null</td><td>null</td><td>null</td><td>Russian Grand Prix</td><td>16</td></tr><tr><td>Suzuka Circuit</td><td>Suzuka</td><td>Japan</td><td>Japanese Grand Prix</td><td>17</td></tr><tr><td>Autódromo Hermanos Rodríguez</td><td>Mexico City</td><td>Mexico</td><td>Mexican Grand Prix</td><td>18</td></tr><tr><td>Circuit of the Americas</td><td>Austin</td><td>USA</td><td>United States Grand Prix</td><td>19</td></tr><tr><td>Autódromo José Carlos Pace</td><td>São Paulo</td><td>Brazil</td><td>Brazilian Grand Prix</td><td>20</td></tr><tr><td>Yas Marina Circuit</td><td>Abu Dhabi</td><td>UAE</td><td>Abu Dhabi Grand Prix</td><td>21</td></tr></tbody></table></div>"
      ]
     },
     "metadata": {
      "application/vnd.databricks.v1+output": {
       "addedWidgets": {},
       "aggData": [],
       "aggError": "",
       "aggOverflow": false,
       "aggSchema": [],
       "aggSeriesLimitReached": false,
       "aggType": "",
       "arguments": {},
       "columnCustomDisplayInfos": {},
       "data": [
        [
         "Albert Park Grand Prix Circuit",
         "Melbourne",
         "Australia",
         "Australian Grand Prix",
         1
        ],
        [
         "Bahrain International Circuit",
         "Sakhir",
         "Bahrain",
         "Bahrain Grand Prix",
         2
        ],
        [
         "Shanghai International Circuit",
         "Shanghai",
         "China",
         "Chinese Grand Prix",
         3
        ],
        [
         null,
         null,
         null,
         "Azerbaijan Grand Prix",
         4
        ],
        [
         "Circuit de Barcelona-Catalunya",
         "Montmeló",
         "Spain",
         "Spanish Grand Prix",
         5
        ],
        [
         "Circuit de Monaco",
         "Monte-Carlo",
         "Monaco",
         "Monaco Grand Prix",
         6
        ],
        [
         "Circuit Gilles Villeneuve",
         "Montreal",
         "Canada",
         "Canadian Grand Prix",
         7
        ],
        [
         "Circuit Paul Ricard",
         "Le Castellet",
         "France",
         "French Grand Prix",
         8
        ],
        [
         null,
         null,
         null,
         "Austrian Grand Prix",
         9
        ],
        [
         "Silverstone Circuit",
         "Silverstone",
         "UK",
         "British Grand Prix",
         10
        ],
        [
         "Hockenheimring",
         "Hockenheim",
         "Germany",
         "German Grand Prix",
         11
        ],
        [
         "Hungaroring",
         "Budapest",
         "Hungary",
         "Hungarian Grand Prix",
         12
        ],
        [
         "Circuit de Spa-Francorchamps",
         "Spa",
         "Belgium",
         "Belgian Grand Prix",
         13
        ],
        [
         "Autodromo Nazionale di Monza",
         "Monza",
         "Italy",
         "Italian Grand Prix",
         14
        ],
        [
         "Marina Bay Street Circuit",
         "Marina Bay",
         "Singapore",
         "Singapore Grand Prix",
         15
        ],
        [
         null,
         null,
         null,
         "Russian Grand Prix",
         16
        ],
        [
         "Suzuka Circuit",
         "Suzuka",
         "Japan",
         "Japanese Grand Prix",
         17
        ],
        [
         "Autódromo Hermanos Rodríguez",
         "Mexico City",
         "Mexico",
         "Mexican Grand Prix",
         18
        ],
        [
         "Circuit of the Americas",
         "Austin",
         "USA",
         "United States Grand Prix",
         19
        ],
        [
         "Autódromo José Carlos Pace",
         "São Paulo",
         "Brazil",
         "Brazilian Grand Prix",
         20
        ],
        [
         "Yas Marina Circuit",
         "Abu Dhabi",
         "UAE",
         "Abu Dhabi Grand Prix",
         21
        ]
       ],
       "datasetInfos": [],
       "dbfsResultPath": null,
       "isJsonSchema": true,
       "metadata": {},
       "overflow": false,
       "plotOptions": {
        "customPlotOptions": {},
        "displayType": "table",
        "pivotAggregation": null,
        "pivotColumns": null,
        "xColumns": null,
        "yColumns": null
       },
       "removedWidgets": [],
       "schema": [
        {
         "metadata": "{}",
         "name": "circuit_name",
         "type": "\"string\""
        },
        {
         "metadata": "{}",
         "name": "location",
         "type": "\"string\""
        },
        {
         "metadata": "{}",
         "name": "country",
         "type": "\"string\""
        },
        {
         "metadata": "{}",
         "name": "race_name",
         "type": "\"string\""
        },
        {
         "metadata": "{}",
         "name": "round",
         "type": "\"integer\""
        }
       ],
       "type": "table"
      }
     },
     "output_type": "display_data"
    }
   ],
   "source": [
    "# Right Outer join\n",
    "race_ctr = circuits_df.join(races_df, circuits_df.circuit_id == races_df.circuit_id, \"right\") \\\n",
    "    .select(circuits_df.circuit_name, circuits_df.location, circuits_df.country, races_df.race_name, races_df.round)\n",
    "display(race_ctr)"
   ]
  },
  {
   "cell_type": "code",
   "execution_count": 0,
   "metadata": {
    "application/vnd.databricks.v1+cell": {
     "cellMetadata": {
      "byteLimit": 2048000,
      "rowLimit": 10000
     },
     "inputWidgets": {},
     "nuid": "71950be1-a1a7-4edd-87e7-5a1fa290b698",
     "showTitle": false,
     "tableResultSettingsMap": {},
     "title": ""
    }
   },
   "outputs": [
    {
     "output_type": "display_data",
     "data": {
      "text/html": [
       "<style scoped>\n",
       "  .table-result-container {\n",
       "    max-height: 300px;\n",
       "    overflow: auto;\n",
       "  }\n",
       "  table, th, td {\n",
       "    border: 1px solid black;\n",
       "    border-collapse: collapse;\n",
       "  }\n",
       "  th, td {\n",
       "    padding: 5px;\n",
       "  }\n",
       "  th {\n",
       "    text-align: left;\n",
       "  }\n",
       "</style><div class='table-result-container'><table class='table-result'><thead style='background-color: white'><tr><th>circuit_name</th><th>location</th><th>country</th><th>race_name</th><th>round</th></tr></thead><tbody><tr><td>Albert Park Grand Prix Circuit</td><td>Melbourne</td><td>Australia</td><td>Australian Grand Prix</td><td>1</td></tr><tr><td>Sepang International Circuit</td><td>Kuala Lumpur</td><td>Malaysia</td><td>null</td><td>null</td></tr><tr><td>Bahrain International Circuit</td><td>Sakhir</td><td>Bahrain</td><td>Bahrain Grand Prix</td><td>2</td></tr><tr><td>Circuit de Barcelona-Catalunya</td><td>Montmeló</td><td>Spain</td><td>Spanish Grand Prix</td><td>5</td></tr><tr><td>Istanbul Park</td><td>Istanbul</td><td>Turkey</td><td>null</td><td>null</td></tr><tr><td>Circuit de Monaco</td><td>Monte-Carlo</td><td>Monaco</td><td>Monaco Grand Prix</td><td>6</td></tr><tr><td>Circuit Gilles Villeneuve</td><td>Montreal</td><td>Canada</td><td>Canadian Grand Prix</td><td>7</td></tr><tr><td>Circuit de Nevers Magny-Cours</td><td>Magny Cours</td><td>France</td><td>null</td><td>null</td></tr><tr><td>Silverstone Circuit</td><td>Silverstone</td><td>UK</td><td>British Grand Prix</td><td>10</td></tr><tr><td>Hockenheimring</td><td>Hockenheim</td><td>Germany</td><td>German Grand Prix</td><td>11</td></tr><tr><td>Hungaroring</td><td>Budapest</td><td>Hungary</td><td>Hungarian Grand Prix</td><td>12</td></tr><tr><td>Valencia Street Circuit</td><td>Valencia</td><td>Spain</td><td>null</td><td>null</td></tr><tr><td>Circuit de Spa-Francorchamps</td><td>Spa</td><td>Belgium</td><td>Belgian Grand Prix</td><td>13</td></tr><tr><td>Autodromo Nazionale di Monza</td><td>Monza</td><td>Italy</td><td>Italian Grand Prix</td><td>14</td></tr><tr><td>Marina Bay Street Circuit</td><td>Marina Bay</td><td>Singapore</td><td>Singapore Grand Prix</td><td>15</td></tr><tr><td>Fuji Speedway</td><td>Oyama</td><td>Japan</td><td>null</td><td>null</td></tr><tr><td>Shanghai International Circuit</td><td>Shanghai</td><td>China</td><td>Chinese Grand Prix</td><td>3</td></tr><tr><td>Autódromo José Carlos Pace</td><td>São Paulo</td><td>Brazil</td><td>Brazilian Grand Prix</td><td>20</td></tr><tr><td>Indianapolis Motor Speedway</td><td>Indianapolis</td><td>USA</td><td>null</td><td>null</td></tr><tr><td>Nürburgring</td><td>Nürburg</td><td>Germany</td><td>null</td><td>null</td></tr><tr><td>Autodromo Enzo e Dino Ferrari</td><td>Imola</td><td>Italy</td><td>null</td><td>null</td></tr><tr><td>Suzuka Circuit</td><td>Suzuka</td><td>Japan</td><td>Japanese Grand Prix</td><td>17</td></tr><tr><td>A1-Ring</td><td>Spielburg</td><td>Austria</td><td>null</td><td>null</td></tr><tr><td>Yas Marina Circuit</td><td>Abu Dhabi</td><td>UAE</td><td>Abu Dhabi Grand Prix</td><td>21</td></tr><tr><td>Autódromo Juan y Oscar Gálvez</td><td>Buenos Aires</td><td>Argentina</td><td>null</td><td>null</td></tr><tr><td>Circuito de Jerez</td><td>Jerez de la Frontera</td><td>Spain</td><td>null</td><td>null</td></tr><tr><td>Autódromo do Estoril</td><td>Estoril</td><td>Portugal</td><td>null</td><td>null</td></tr><tr><td>Okayama International Circuit</td><td>Okayama</td><td>Japan</td><td>null</td><td>null</td></tr><tr><td>Adelaide Street Circuit</td><td>Adelaide</td><td>Australia</td><td>null</td><td>null</td></tr><tr><td>Kyalami</td><td>Midrand</td><td>South Africa</td><td>null</td><td>null</td></tr><tr><td>Donington Park</td><td>Castle Donington</td><td>UK</td><td>null</td><td>null</td></tr><tr><td>Autódromo Hermanos Rodríguez</td><td>Mexico City</td><td>Mexico</td><td>Mexican Grand Prix</td><td>18</td></tr><tr><td>Phoenix street circuit</td><td>Phoenix</td><td>USA</td><td>null</td><td>null</td></tr><tr><td>Circuit Paul Ricard</td><td>Le Castellet</td><td>France</td><td>French Grand Prix</td><td>8</td></tr><tr><td>Korean International Circuit</td><td>Yeongam County</td><td>Korea</td><td>null</td><td>null</td></tr><tr><td>Autódromo Internacional Nelson Piquet</td><td>Rio de Janeiro</td><td>Brazil</td><td>null</td><td>null</td></tr><tr><td>Detroit Street Circuit</td><td>Detroit</td><td>USA</td><td>null</td><td>null</td></tr><tr><td>Brands Hatch</td><td>Kent</td><td>UK</td><td>null</td><td>null</td></tr><tr><td>Circuit Park Zandvoort</td><td>Zandvoort</td><td>Netherlands</td><td>null</td><td>null</td></tr><tr><td>Zolder</td><td>Heusden-Zolder</td><td>Belgium</td><td>null</td><td>null</td></tr><tr><td>Dijon-Prenois</td><td>Dijon</td><td>France</td><td>null</td><td>null</td></tr><tr><td>Fair Park</td><td>Dallas</td><td>USA</td><td>null</td><td>null</td></tr><tr><td>Long Beach</td><td>California</td><td>USA</td><td>null</td><td>null</td></tr><tr><td>Las Vegas Street Circuit</td><td>Nevada</td><td>USA</td><td>null</td><td>null</td></tr><tr><td>Jarama</td><td>Madrid</td><td>Spain</td><td>null</td><td>null</td></tr><tr><td>Watkins Glen</td><td>New York State</td><td>USA</td><td>null</td><td>null</td></tr><tr><td>Scandinavian Raceway</td><td>Anderstorp</td><td>Sweden</td><td>null</td><td>null</td></tr><tr><td>Mosport International Raceway</td><td>Ontario</td><td>Canada</td><td>null</td><td>null</td></tr><tr><td>Montjuïc</td><td>Barcelona</td><td>Spain</td><td>null</td><td>null</td></tr><tr><td>Nivelles-Baulers</td><td>Brussels</td><td>Belgium</td><td>null</td><td>null</td></tr><tr><td>Charade Circuit</td><td>Clermont-Ferrand</td><td>France</td><td>null</td><td>null</td></tr><tr><td>Circuit Mont-Tremblant</td><td>Quebec</td><td>Canada</td><td>null</td><td>null</td></tr><tr><td>Rouen-Les-Essarts</td><td>Rouen</td><td>France</td><td>null</td><td>null</td></tr><tr><td>Le Mans</td><td>Le Mans</td><td>France</td><td>null</td><td>null</td></tr><tr><td>Reims-Gueux</td><td>Reims</td><td>France</td><td>null</td><td>null</td></tr><tr><td>Prince George Circuit</td><td>Eastern Cape Province</td><td>South Africa</td><td>null</td><td>null</td></tr><tr><td>Zeltweg</td><td>Styria</td><td>Austria</td><td>null</td><td>null</td></tr><tr><td>Aintree</td><td>Liverpool</td><td>UK</td><td>null</td><td>null</td></tr><tr><td>Circuito da Boavista</td><td>Oporto</td><td>Portugal</td><td>null</td><td>null</td></tr><tr><td>Riverside International Raceway</td><td>California</td><td>USA</td><td>null</td><td>null</td></tr><tr><td>AVUS</td><td>Berlin</td><td>Germany</td><td>null</td><td>null</td></tr><tr><td>Monsanto Park Circuit</td><td>Lisbon</td><td>Portugal</td><td>null</td><td>null</td></tr><tr><td>Sebring International Raceway</td><td>Florida</td><td>USA</td><td>null</td><td>null</td></tr><tr><td>Ain Diab</td><td>Casablanca</td><td>Morocco</td><td>null</td><td>null</td></tr><tr><td>Pescara Circuit</td><td>Pescara</td><td>Italy</td><td>null</td><td>null</td></tr><tr><td>Circuit Bremgarten</td><td>Bern</td><td>Switzerland</td><td>null</td><td>null</td></tr><tr><td>Circuit de Pedralbes</td><td>Barcelona</td><td>Spain</td><td>null</td><td>null</td></tr><tr><td>Buddh International Circuit</td><td>Uttar Pradesh</td><td>India</td><td>null</td><td>null</td></tr><tr><td>Circuit of the Americas</td><td>Austin</td><td>USA</td><td>United States Grand Prix</td><td>19</td></tr><tr><td>null</td><td>null</td><td>null</td><td>Austrian Grand Prix</td><td>9</td></tr><tr><td>null</td><td>null</td><td>null</td><td>Russian Grand Prix</td><td>16</td></tr><tr><td>null</td><td>null</td><td>null</td><td>Azerbaijan Grand Prix</td><td>4</td></tr></tbody></table></div>"
      ]
     },
     "metadata": {
      "application/vnd.databricks.v1+output": {
       "addedWidgets": {},
       "aggData": [],
       "aggError": "",
       "aggOverflow": false,
       "aggSchema": [],
       "aggSeriesLimitReached": false,
       "aggType": "",
       "arguments": {},
       "columnCustomDisplayInfos": {},
       "data": [
        [
         "Albert Park Grand Prix Circuit",
         "Melbourne",
         "Australia",
         "Australian Grand Prix",
         1
        ],
        [
         "Sepang International Circuit",
         "Kuala Lumpur",
         "Malaysia",
         null,
         null
        ],
        [
         "Bahrain International Circuit",
         "Sakhir",
         "Bahrain",
         "Bahrain Grand Prix",
         2
        ],
        [
         "Circuit de Barcelona-Catalunya",
         "Montmeló",
         "Spain",
         "Spanish Grand Prix",
         5
        ],
        [
         "Istanbul Park",
         "Istanbul",
         "Turkey",
         null,
         null
        ],
        [
         "Circuit de Monaco",
         "Monte-Carlo",
         "Monaco",
         "Monaco Grand Prix",
         6
        ],
        [
         "Circuit Gilles Villeneuve",
         "Montreal",
         "Canada",
         "Canadian Grand Prix",
         7
        ],
        [
         "Circuit de Nevers Magny-Cours",
         "Magny Cours",
         "France",
         null,
         null
        ],
        [
         "Silverstone Circuit",
         "Silverstone",
         "UK",
         "British Grand Prix",
         10
        ],
        [
         "Hockenheimring",
         "Hockenheim",
         "Germany",
         "German Grand Prix",
         11
        ],
        [
         "Hungaroring",
         "Budapest",
         "Hungary",
         "Hungarian Grand Prix",
         12
        ],
        [
         "Valencia Street Circuit",
         "Valencia",
         "Spain",
         null,
         null
        ],
        [
         "Circuit de Spa-Francorchamps",
         "Spa",
         "Belgium",
         "Belgian Grand Prix",
         13
        ],
        [
         "Autodromo Nazionale di Monza",
         "Monza",
         "Italy",
         "Italian Grand Prix",
         14
        ],
        [
         "Marina Bay Street Circuit",
         "Marina Bay",
         "Singapore",
         "Singapore Grand Prix",
         15
        ],
        [
         "Fuji Speedway",
         "Oyama",
         "Japan",
         null,
         null
        ],
        [
         "Shanghai International Circuit",
         "Shanghai",
         "China",
         "Chinese Grand Prix",
         3
        ],
        [
         "Autódromo José Carlos Pace",
         "São Paulo",
         "Brazil",
         "Brazilian Grand Prix",
         20
        ],
        [
         "Indianapolis Motor Speedway",
         "Indianapolis",
         "USA",
         null,
         null
        ],
        [
         "Nürburgring",
         "Nürburg",
         "Germany",
         null,
         null
        ],
        [
         "Autodromo Enzo e Dino Ferrari",
         "Imola",
         "Italy",
         null,
         null
        ],
        [
         "Suzuka Circuit",
         "Suzuka",
         "Japan",
         "Japanese Grand Prix",
         17
        ],
        [
         "A1-Ring",
         "Spielburg",
         "Austria",
         null,
         null
        ],
        [
         "Yas Marina Circuit",
         "Abu Dhabi",
         "UAE",
         "Abu Dhabi Grand Prix",
         21
        ],
        [
         "Autódromo Juan y Oscar Gálvez",
         "Buenos Aires",
         "Argentina",
         null,
         null
        ],
        [
         "Circuito de Jerez",
         "Jerez de la Frontera",
         "Spain",
         null,
         null
        ],
        [
         "Autódromo do Estoril",
         "Estoril",
         "Portugal",
         null,
         null
        ],
        [
         "Okayama International Circuit",
         "Okayama",
         "Japan",
         null,
         null
        ],
        [
         "Adelaide Street Circuit",
         "Adelaide",
         "Australia",
         null,
         null
        ],
        [
         "Kyalami",
         "Midrand",
         "South Africa",
         null,
         null
        ],
        [
         "Donington Park",
         "Castle Donington",
         "UK",
         null,
         null
        ],
        [
         "Autódromo Hermanos Rodríguez",
         "Mexico City",
         "Mexico",
         "Mexican Grand Prix",
         18
        ],
        [
         "Phoenix street circuit",
         "Phoenix",
         "USA",
         null,
         null
        ],
        [
         "Circuit Paul Ricard",
         "Le Castellet",
         "France",
         "French Grand Prix",
         8
        ],
        [
         "Korean International Circuit",
         "Yeongam County",
         "Korea",
         null,
         null
        ],
        [
         "Autódromo Internacional Nelson Piquet",
         "Rio de Janeiro",
         "Brazil",
         null,
         null
        ],
        [
         "Detroit Street Circuit",
         "Detroit",
         "USA",
         null,
         null
        ],
        [
         "Brands Hatch",
         "Kent",
         "UK",
         null,
         null
        ],
        [
         "Circuit Park Zandvoort",
         "Zandvoort",
         "Netherlands",
         null,
         null
        ],
        [
         "Zolder",
         "Heusden-Zolder",
         "Belgium",
         null,
         null
        ],
        [
         "Dijon-Prenois",
         "Dijon",
         "France",
         null,
         null
        ],
        [
         "Fair Park",
         "Dallas",
         "USA",
         null,
         null
        ],
        [
         "Long Beach",
         "California",
         "USA",
         null,
         null
        ],
        [
         "Las Vegas Street Circuit",
         "Nevada",
         "USA",
         null,
         null
        ],
        [
         "Jarama",
         "Madrid",
         "Spain",
         null,
         null
        ],
        [
         "Watkins Glen",
         "New York State",
         "USA",
         null,
         null
        ],
        [
         "Scandinavian Raceway",
         "Anderstorp",
         "Sweden",
         null,
         null
        ],
        [
         "Mosport International Raceway",
         "Ontario",
         "Canada",
         null,
         null
        ],
        [
         "Montjuïc",
         "Barcelona",
         "Spain",
         null,
         null
        ],
        [
         "Nivelles-Baulers",
         "Brussels",
         "Belgium",
         null,
         null
        ],
        [
         "Charade Circuit",
         "Clermont-Ferrand",
         "France",
         null,
         null
        ],
        [
         "Circuit Mont-Tremblant",
         "Quebec",
         "Canada",
         null,
         null
        ],
        [
         "Rouen-Les-Essarts",
         "Rouen",
         "France",
         null,
         null
        ],
        [
         "Le Mans",
         "Le Mans",
         "France",
         null,
         null
        ],
        [
         "Reims-Gueux",
         "Reims",
         "France",
         null,
         null
        ],
        [
         "Prince George Circuit",
         "Eastern Cape Province",
         "South Africa",
         null,
         null
        ],
        [
         "Zeltweg",
         "Styria",
         "Austria",
         null,
         null
        ],
        [
         "Aintree",
         "Liverpool",
         "UK",
         null,
         null
        ],
        [
         "Circuito da Boavista",
         "Oporto",
         "Portugal",
         null,
         null
        ],
        [
         "Riverside International Raceway",
         "California",
         "USA",
         null,
         null
        ],
        [
         "AVUS",
         "Berlin",
         "Germany",
         null,
         null
        ],
        [
         "Monsanto Park Circuit",
         "Lisbon",
         "Portugal",
         null,
         null
        ],
        [
         "Sebring International Raceway",
         "Florida",
         "USA",
         null,
         null
        ],
        [
         "Ain Diab",
         "Casablanca",
         "Morocco",
         null,
         null
        ],
        [
         "Pescara Circuit",
         "Pescara",
         "Italy",
         null,
         null
        ],
        [
         "Circuit Bremgarten",
         "Bern",
         "Switzerland",
         null,
         null
        ],
        [
         "Circuit de Pedralbes",
         "Barcelona",
         "Spain",
         null,
         null
        ],
        [
         "Buddh International Circuit",
         "Uttar Pradesh",
         "India",
         null,
         null
        ],
        [
         "Circuit of the Americas",
         "Austin",
         "USA",
         "United States Grand Prix",
         19
        ],
        [
         null,
         null,
         null,
         "Austrian Grand Prix",
         9
        ],
        [
         null,
         null,
         null,
         "Russian Grand Prix",
         16
        ],
        [
         null,
         null,
         null,
         "Azerbaijan Grand Prix",
         4
        ]
       ],
       "datasetInfos": [],
       "dbfsResultPath": null,
       "isJsonSchema": true,
       "metadata": {},
       "overflow": false,
       "plotOptions": {
        "customPlotOptions": {},
        "displayType": "table",
        "pivotAggregation": null,
        "pivotColumns": null,
        "xColumns": null,
        "yColumns": null
       },
       "removedWidgets": [],
       "schema": [
        {
         "metadata": "{}",
         "name": "circuit_name",
         "type": "\"string\""
        },
        {
         "metadata": "{}",
         "name": "location",
         "type": "\"string\""
        },
        {
         "metadata": "{}",
         "name": "country",
         "type": "\"string\""
        },
        {
         "metadata": "{}",
         "name": "race_name",
         "type": "\"string\""
        },
        {
         "metadata": "{}",
         "name": "round",
         "type": "\"integer\""
        }
       ],
       "type": "table"
      }
     },
     "output_type": "display_data"
    }
   ],
   "source": [
    "# Full Outer join\n",
    "race_ctr = circuits_df.join(races_df, circuits_df.circuit_id == races_df.circuit_id, \"full\") \\\n",
    "    .select(circuits_df.circuit_name, circuits_df.location, circuits_df.country, races_df.race_name, races_df.round)\n",
    "display(race_ctr)"
   ]
  },
  {
   "cell_type": "code",
   "execution_count": 0,
   "metadata": {
    "application/vnd.databricks.v1+cell": {
     "cellMetadata": {
      "byteLimit": 2048000,
      "rowLimit": 10000
     },
     "inputWidgets": {},
     "nuid": "1eb6fa04-fe0d-486a-add9-f9ee6679a217",
     "showTitle": false,
     "tableResultSettingsMap": {},
     "title": ""
    }
   },
   "outputs": [
    {
     "output_type": "display_data",
     "data": {
      "text/html": [
       "<style scoped>\n",
       "  .table-result-container {\n",
       "    max-height: 300px;\n",
       "    overflow: auto;\n",
       "  }\n",
       "  table, th, td {\n",
       "    border: 1px solid black;\n",
       "    border-collapse: collapse;\n",
       "  }\n",
       "  th, td {\n",
       "    padding: 5px;\n",
       "  }\n",
       "  th {\n",
       "    text-align: left;\n",
       "  }\n",
       "</style><div class='table-result-container'><table class='table-result'><thead style='background-color: white'><tr><th>circuit_name</th><th>location</th><th>country</th></tr></thead><tbody><tr><td>Albert Park Grand Prix Circuit</td><td>Melbourne</td><td>Australia</td></tr><tr><td>Bahrain International Circuit</td><td>Sakhir</td><td>Bahrain</td></tr><tr><td>Circuit de Barcelona-Catalunya</td><td>Montmeló</td><td>Spain</td></tr><tr><td>Circuit de Monaco</td><td>Monte-Carlo</td><td>Monaco</td></tr><tr><td>Circuit Gilles Villeneuve</td><td>Montreal</td><td>Canada</td></tr><tr><td>Silverstone Circuit</td><td>Silverstone</td><td>UK</td></tr><tr><td>Hockenheimring</td><td>Hockenheim</td><td>Germany</td></tr><tr><td>Hungaroring</td><td>Budapest</td><td>Hungary</td></tr><tr><td>Circuit de Spa-Francorchamps</td><td>Spa</td><td>Belgium</td></tr><tr><td>Autodromo Nazionale di Monza</td><td>Monza</td><td>Italy</td></tr><tr><td>Marina Bay Street Circuit</td><td>Marina Bay</td><td>Singapore</td></tr><tr><td>Shanghai International Circuit</td><td>Shanghai</td><td>China</td></tr><tr><td>Autódromo José Carlos Pace</td><td>São Paulo</td><td>Brazil</td></tr><tr><td>Suzuka Circuit</td><td>Suzuka</td><td>Japan</td></tr><tr><td>Yas Marina Circuit</td><td>Abu Dhabi</td><td>UAE</td></tr><tr><td>Autódromo Hermanos Rodríguez</td><td>Mexico City</td><td>Mexico</td></tr><tr><td>Circuit Paul Ricard</td><td>Le Castellet</td><td>France</td></tr><tr><td>Circuit of the Americas</td><td>Austin</td><td>USA</td></tr></tbody></table></div>"
      ]
     },
     "metadata": {
      "application/vnd.databricks.v1+output": {
       "addedWidgets": {},
       "aggData": [],
       "aggError": "",
       "aggOverflow": false,
       "aggSchema": [],
       "aggSeriesLimitReached": false,
       "aggType": "",
       "arguments": {},
       "columnCustomDisplayInfos": {},
       "data": [
        [
         "Albert Park Grand Prix Circuit",
         "Melbourne",
         "Australia"
        ],
        [
         "Bahrain International Circuit",
         "Sakhir",
         "Bahrain"
        ],
        [
         "Circuit de Barcelona-Catalunya",
         "Montmeló",
         "Spain"
        ],
        [
         "Circuit de Monaco",
         "Monte-Carlo",
         "Monaco"
        ],
        [
         "Circuit Gilles Villeneuve",
         "Montreal",
         "Canada"
        ],
        [
         "Silverstone Circuit",
         "Silverstone",
         "UK"
        ],
        [
         "Hockenheimring",
         "Hockenheim",
         "Germany"
        ],
        [
         "Hungaroring",
         "Budapest",
         "Hungary"
        ],
        [
         "Circuit de Spa-Francorchamps",
         "Spa",
         "Belgium"
        ],
        [
         "Autodromo Nazionale di Monza",
         "Monza",
         "Italy"
        ],
        [
         "Marina Bay Street Circuit",
         "Marina Bay",
         "Singapore"
        ],
        [
         "Shanghai International Circuit",
         "Shanghai",
         "China"
        ],
        [
         "Autódromo José Carlos Pace",
         "São Paulo",
         "Brazil"
        ],
        [
         "Suzuka Circuit",
         "Suzuka",
         "Japan"
        ],
        [
         "Yas Marina Circuit",
         "Abu Dhabi",
         "UAE"
        ],
        [
         "Autódromo Hermanos Rodríguez",
         "Mexico City",
         "Mexico"
        ],
        [
         "Circuit Paul Ricard",
         "Le Castellet",
         "France"
        ],
        [
         "Circuit of the Americas",
         "Austin",
         "USA"
        ]
       ],
       "datasetInfos": [],
       "dbfsResultPath": null,
       "isJsonSchema": true,
       "metadata": {},
       "overflow": false,
       "plotOptions": {
        "customPlotOptions": {},
        "displayType": "table",
        "pivotAggregation": null,
        "pivotColumns": null,
        "xColumns": null,
        "yColumns": null
       },
       "removedWidgets": [],
       "schema": [
        {
         "metadata": "{}",
         "name": "circuit_name",
         "type": "\"string\""
        },
        {
         "metadata": "{}",
         "name": "location",
         "type": "\"string\""
        },
        {
         "metadata": "{}",
         "name": "country",
         "type": "\"string\""
        }
       ],
       "type": "table"
      }
     },
     "output_type": "display_data"
    }
   ],
   "source": [
    "# Semi join\n",
    "race_ctr = circuits_df.join(races_df, circuits_df.circuit_id == races_df.circuit_id, \"semi\") \\\n",
    "    .select(circuits_df.circuit_name, circuits_df.location, circuits_df.country)\n",
    "display(race_ctr)"
   ]
  },
  {
   "cell_type": "code",
   "execution_count": 0,
   "metadata": {
    "application/vnd.databricks.v1+cell": {
     "cellMetadata": {},
     "inputWidgets": {},
     "nuid": "2db817a8-90e5-428f-8698-c4d56c66de3e",
     "showTitle": false,
     "tableResultSettingsMap": {},
     "title": ""
    }
   },
   "outputs": [],
   "source": [
    "# Anti join\n",
    "# Opposite of semi join (everything on left that is not on right Df)\n",
    "race_ctr = circuits_df.join(races_df, circuits_df.circuit_id == races_df.circuit_id, \"anti\") \\\n",
    "    .select(circuits_df.circuit_name, circuits_df.location, circuits_df.country)\n",
    "display(race_ctr)"
   ]
  },
  {
   "cell_type": "code",
   "execution_count": 0,
   "metadata": {
    "application/vnd.databricks.v1+cell": {
     "cellMetadata": {},
     "inputWidgets": {},
     "nuid": "588ad9f9-1885-4db2-88c0-422b43b5b250",
     "showTitle": false,
     "tableResultSettingsMap": {},
     "title": ""
    }
   },
   "outputs": [],
   "source": [
    "# Cross join\n",
    "race_ctr = circuits_df.crossJoin(races_df)\n",
    "display(race_ctr)\n",
    "race_ctr.count()\n",
    "int(races_df.count()) = int(circuits_df.count( ))"
   ]
  }
 ],
 "metadata": {
  "application/vnd.databricks.v1+notebook": {
   "computePreferences": null,
   "dashboards": [],
   "environmentMetadata": {
    "base_environment": "",
    "environment_version": "2"
   },
   "language": "python",
   "notebookMetadata": {
    "pythonIndentUnit": 4
   },
   "notebookName": "2_join_demo",
   "widgets": {}
  },
  "language_info": {
   "name": "python"
  }
 },
 "nbformat": 4,
 "nbformat_minor": 0
}