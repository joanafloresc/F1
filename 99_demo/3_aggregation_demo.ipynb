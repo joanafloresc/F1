{
 "cells": [
  {
   "cell_type": "markdown",
   "metadata": {
    "application/vnd.databricks.v1+cell": {
     "cellMetadata": {
      "byteLimit": 2048000,
      "rowLimit": 10000
     },
     "inputWidgets": {},
     "nuid": "c883fc6e-8b75-4dca-99f9-9161cc0d8c91",
     "showTitle": false,
     "tableResultSettingsMap": {},
     "title": ""
    }
   },
   "source": [
    "## Aggregation Transformations"
   ]
  },
  {
   "cell_type": "code",
   "execution_count": 0,
   "metadata": {
    "application/vnd.databricks.v1+cell": {
     "cellMetadata": {
      "byteLimit": 2048000,
      "rowLimit": 10000
     },
     "inputWidgets": {},
     "nuid": "9e1c540c-09f0-44f0-98fd-9c0591e7df9f",
     "showTitle": false,
     "tableResultSettingsMap": {},
     "title": ""
    }
   },
   "outputs": [],
   "source": [
    "%run \"../includes/configuration\""
   ]
  },
  {
   "cell_type": "code",
   "execution_count": 0,
   "metadata": {
    "application/vnd.databricks.v1+cell": {
     "cellMetadata": {
      "byteLimit": 2048000,
      "rowLimit": 10000
     },
     "inputWidgets": {},
     "nuid": "cdb2c87b-06c9-485e-ae3c-f67b39113691",
     "showTitle": false,
     "tableResultSettingsMap": {},
     "title": ""
    }
   },
   "outputs": [],
   "source": [
    "race_results_df = spark.read.parquet(f\"{presentation_folder_path}/race_results\").filter(\"race_year == 2020\")"
   ]
  },
  {
   "cell_type": "code",
   "execution_count": 0,
   "metadata": {
    "application/vnd.databricks.v1+cell": {
     "cellMetadata": {
      "byteLimit": 2048000,
      "rowLimit": 10000
     },
     "inputWidgets": {},
     "nuid": "303fe2a1-0a01-4826-8a23-abcf5b016eb7",
     "showTitle": false,
     "tableResultSettingsMap": {},
     "title": ""
    }
   },
   "outputs": [],
   "source": [
    "from pyspark.sql.functions import count, countDistinct, sum, desc, rank\n",
    "from pyspark.sql.window import Window"
   ]
  },
  {
   "cell_type": "code",
   "execution_count": 0,
   "metadata": {
    "application/vnd.databricks.v1+cell": {
     "cellMetadata": {
      "byteLimit": 2048000,
      "rowLimit": 10000
     },
     "inputWidgets": {},
     "nuid": "61b931b9-b9ee-4d58-b61e-6b4094565b13",
     "showTitle": false,
     "tableResultSettingsMap": {},
     "title": ""
    }
   },
   "outputs": [
    {
     "output_type": "stream",
     "name": "stdout",
     "output_type": "stream",
     "text": [
      "+--------+\n|count(1)|\n+--------+\n|     340|\n+--------+\n\n"
     ]
    }
   ],
   "source": [
    "race_results_df.select(count(\"*\")).show()"
   ]
  },
  {
   "cell_type": "code",
   "execution_count": 0,
   "metadata": {
    "application/vnd.databricks.v1+cell": {
     "cellMetadata": {
      "byteLimit": 2048000,
      "rowLimit": 10000
     },
     "inputWidgets": {},
     "nuid": "588ad9f9-1885-4db2-88c0-422b43b5b250",
     "showTitle": false,
     "tableResultSettingsMap": {},
     "title": ""
    }
   },
   "outputs": [
    {
     "output_type": "stream",
     "name": "stdout",
     "output_type": "stream",
     "text": [
      "+-------------------------+\n|count(DISTINCT race_name)|\n+-------------------------+\n|                       17|\n+-------------------------+\n\n"
     ]
    }
   ],
   "source": [
    "race_results_df.select(countDistinct(\"race_name\")).show()"
   ]
  },
  {
   "cell_type": "code",
   "execution_count": 0,
   "metadata": {
    "application/vnd.databricks.v1+cell": {
     "cellMetadata": {
      "byteLimit": 2048000,
      "rowLimit": 10000
     },
     "inputWidgets": {},
     "nuid": "07dbde49-a1b3-45ec-85b6-55ad8fd76453",
     "showTitle": false,
     "tableResultSettingsMap": {},
     "title": ""
    }
   },
   "outputs": [
    {
     "output_type": "stream",
     "name": "stdout",
     "output_type": "stream",
     "text": [
      "+-----------+\n|sum(points)|\n+-----------+\n|     1734.0|\n+-----------+\n\n"
     ]
    }
   ],
   "source": [
    "race_results_df.select(sum(\"points\")).show()"
   ]
  },
  {
   "cell_type": "code",
   "execution_count": 0,
   "metadata": {
    "application/vnd.databricks.v1+cell": {
     "cellMetadata": {
      "byteLimit": 2048000,
      "rowLimit": 10000
     },
     "inputWidgets": {},
     "nuid": "adae7bfb-4ca3-4385-be5c-df5cd210d361",
     "showTitle": false,
     "tableResultSettingsMap": {},
     "title": ""
    }
   },
   "outputs": [
    {
     "output_type": "stream",
     "name": "stdout",
     "output_type": "stream",
     "text": [
      "+------------+---------+\n|total_points|races_won|\n+------------+---------+\n|       347.0|       16|\n+------------+---------+\n\n"
     ]
    }
   ],
   "source": [
    "race_results_df.filter(\"driver_name == 'Lewis Hamilton'\") \\\n",
    "    .select(sum(\"points\"), countDistinct(\"race_name\")) \\\n",
    "    .withColumnRenamed(\"sum(points)\", \"total_points\") \\\n",
    "    .withColumnRenamed(\"count(DISTINCT race_name)\", \"races_won\") \\\n",
    "    .show()"
   ]
  },
  {
   "cell_type": "markdown",
   "metadata": {
    "application/vnd.databricks.v1+cell": {
     "cellMetadata": {
      "byteLimit": 2048000,
      "rowLimit": 10000
     },
     "inputWidgets": {},
     "nuid": "187488cb-9765-46cd-a297-1a9a6ba8810e",
     "showTitle": false,
     "tableResultSettingsMap": {},
     "title": ""
    }
   },
   "source": [
    "## GroupBy"
   ]
  },
  {
   "cell_type": "code",
   "execution_count": 0,
   "metadata": {
    "application/vnd.databricks.v1+cell": {
     "cellMetadata": {
      "byteLimit": 2048000,
      "rowLimit": 10000
     },
     "inputWidgets": {},
     "nuid": "77b49327-2015-45b7-a516-76d1ac9a7f9e",
     "showTitle": false,
     "tableResultSettingsMap": {},
     "title": ""
    }
   },
   "outputs": [
    {
     "output_type": "stream",
     "name": "stdout",
     "output_type": "stream",
     "text": [
      "+------------------+-----------+----------------+\n|       driver_name|sum(points)|count(race_name)|\n+------------------+-----------+----------------+\n|       Jack Aitken|        0.0|               1|\n|      Daniil Kvyat|       32.0|              17|\n|   Kevin Magnussen|        1.0|              17|\n|      Sergio Pérez|      125.0|              15|\n|      Carlos Sainz|      105.0|              17|\n|    Kimi Räikkönen|        4.0|              17|\n|   Romain Grosjean|        2.0|              15|\n|   Charles Leclerc|       98.0|              17|\n|   Alexander Albon|      105.0|              17|\n|      Lance Stroll|       75.0|              16|\n|      Pierre Gasly|       75.0|              17|\n|    Lewis Hamilton|      347.0|              16|\n|   Nico Hülkenberg|       10.0|               3|\n|  Daniel Ricciardo|      119.0|              17|\n|   Valtteri Bottas|      223.0|              17|\n|Antonio Giovinazzi|        4.0|              17|\n|      Lando Norris|       97.0|              17|\n|    Max Verstappen|      214.0|              17|\n|    George Russell|        3.0|              17|\n|  Sebastian Vettel|       33.0|              17|\n+------------------+-----------+----------------+\nonly showing top 20 rows\n\n"
     ]
    }
   ],
   "source": [
    "race_results_df \\\n",
    "    .groupBy(\"driver_name\") \\\n",
    "    .agg(sum(\"points\"), countDistinct(\"race_name\")) \\\n",
    "    .show()"
   ]
  },
  {
   "cell_type": "markdown",
   "metadata": {
    "application/vnd.databricks.v1+cell": {
     "cellMetadata": {
      "byteLimit": 2048000,
      "rowLimit": 10000
     },
     "inputWidgets": {},
     "nuid": "ee5de5e4-e121-4e3d-84dd-2a4adf0e53a1",
     "showTitle": false,
     "tableResultSettingsMap": {},
     "title": ""
    }
   },
   "source": [
    "## Window Functions"
   ]
  },
  {
   "cell_type": "code",
   "execution_count": 0,
   "metadata": {
    "application/vnd.databricks.v1+cell": {
     "cellMetadata": {
      "byteLimit": 2048000,
      "rowLimit": 10000
     },
     "inputWidgets": {},
     "nuid": "baf4103d-92c8-473d-8846-86f92cea8bf9",
     "showTitle": false,
     "tableResultSettingsMap": {},
     "title": ""
    }
   },
   "outputs": [],
   "source": [
    "demo_df = race_results_df.filter(\"race_year in (2019, 2020)\") "
   ]
  },
  {
   "cell_type": "code",
   "execution_count": 0,
   "metadata": {
    "application/vnd.databricks.v1+cell": {
     "cellMetadata": {},
     "inputWidgets": {},
     "nuid": "2dee7551-eb9f-4678-9bf4-e9c70dd4382a",
     "showTitle": false,
     "tableResultSettingsMap": {},
     "title": ""
    }
   },
   "outputs": [],
   "source": [
    "#display(demo_df)"
   ]
  },
  {
   "cell_type": "code",
   "execution_count": 0,
   "metadata": {
    "application/vnd.databricks.v1+cell": {
     "cellMetadata": {
      "byteLimit": 2048000,
      "rowLimit": 10000
     },
     "inputWidgets": {},
     "nuid": "b53a62a6-356b-4d5e-9192-b7a0722e6f3c",
     "showTitle": false,
     "tableResultSettingsMap": {},
     "title": ""
    }
   },
   "outputs": [
    {
     "output_type": "display_data",
     "data": {
      "text/html": [
       "<style scoped>\n",
       "  .table-result-container {\n",
       "    max-height: 300px;\n",
       "    overflow: auto;\n",
       "  }\n",
       "  table, th, td {\n",
       "    border: 1px solid black;\n",
       "    border-collapse: collapse;\n",
       "  }\n",
       "  th, td {\n",
       "    padding: 5px;\n",
       "  }\n",
       "  th {\n",
       "    text-align: left;\n",
       "  }\n",
       "</style><div class='table-result-container'><table class='table-result'><thead style='background-color: white'><tr><th>race_year</th><th>driver_name</th><th>total_points</th><th>number_races</th></tr></thead><tbody><tr><td>2020</td><td>Daniil Kvyat</td><td>32.0</td><td>17</td></tr><tr><td>2020</td><td>Kevin Magnussen</td><td>1.0</td><td>17</td></tr><tr><td>2020</td><td>Antonio Giovinazzi</td><td>4.0</td><td>17</td></tr><tr><td>2020</td><td>Nico Hülkenberg</td><td>10.0</td><td>3</td></tr><tr><td>2020</td><td>Romain Grosjean</td><td>2.0</td><td>15</td></tr><tr><td>2020</td><td>Charles Leclerc</td><td>98.0</td><td>17</td></tr><tr><td>2020</td><td>Esteban Ocon</td><td>62.0</td><td>17</td></tr><tr><td>2020</td><td>Pietro Fittipaldi</td><td>0.0</td><td>2</td></tr><tr><td>2020</td><td>Sebastian Vettel</td><td>33.0</td><td>17</td></tr><tr><td>2020</td><td>Daniel Ricciardo</td><td>119.0</td><td>17</td></tr><tr><td>2020</td><td>Kimi Räikkönen</td><td>4.0</td><td>17</td></tr><tr><td>2020</td><td>George Russell</td><td>3.0</td><td>17</td></tr><tr><td>2020</td><td>Max Verstappen</td><td>214.0</td><td>17</td></tr><tr><td>2020</td><td>Valtteri Bottas</td><td>223.0</td><td>17</td></tr><tr><td>2020</td><td>Pierre Gasly</td><td>75.0</td><td>17</td></tr><tr><td>2020</td><td>Lewis Hamilton</td><td>347.0</td><td>16</td></tr><tr><td>2020</td><td>Jack Aitken</td><td>0.0</td><td>1</td></tr><tr><td>2020</td><td>Lance Stroll</td><td>75.0</td><td>16</td></tr><tr><td>2020</td><td>Nicholas Latifi</td><td>0.0</td><td>17</td></tr><tr><td>2020</td><td>Carlos Sainz</td><td>105.0</td><td>17</td></tr><tr><td>2020</td><td>Lando Norris</td><td>97.0</td><td>17</td></tr><tr><td>2020</td><td>Alexander Albon</td><td>105.0</td><td>17</td></tr><tr><td>2020</td><td>Sergio Pérez</td><td>125.0</td><td>15</td></tr></tbody></table></div>"
      ]
     },
     "metadata": {
      "application/vnd.databricks.v1+output": {
       "addedWidgets": {},
       "aggData": [],
       "aggError": "",
       "aggOverflow": false,
       "aggSchema": [],
       "aggSeriesLimitReached": false,
       "aggType": "",
       "arguments": {},
       "columnCustomDisplayInfos": {},
       "data": [
        [
         2020,
         "Daniil Kvyat",
         32.0,
         17
        ],
        [
         2020,
         "Kevin Magnussen",
         1.0,
         17
        ],
        [
         2020,
         "Antonio Giovinazzi",
         4.0,
         17
        ],
        [
         2020,
         "Nico Hülkenberg",
         10.0,
         3
        ],
        [
         2020,
         "Romain Grosjean",
         2.0,
         15
        ],
        [
         2020,
         "Charles Leclerc",
         98.0,
         17
        ],
        [
         2020,
         "Esteban Ocon",
         62.0,
         17
        ],
        [
         2020,
         "Pietro Fittipaldi",
         0.0,
         2
        ],
        [
         2020,
         "Sebastian Vettel",
         33.0,
         17
        ],
        [
         2020,
         "Daniel Ricciardo",
         119.0,
         17
        ],
        [
         2020,
         "Kimi Räikkönen",
         4.0,
         17
        ],
        [
         2020,
         "George Russell",
         3.0,
         17
        ],
        [
         2020,
         "Max Verstappen",
         214.0,
         17
        ],
        [
         2020,
         "Valtteri Bottas",
         223.0,
         17
        ],
        [
         2020,
         "Pierre Gasly",
         75.0,
         17
        ],
        [
         2020,
         "Lewis Hamilton",
         347.0,
         16
        ],
        [
         2020,
         "Jack Aitken",
         0.0,
         1
        ],
        [
         2020,
         "Lance Stroll",
         75.0,
         16
        ],
        [
         2020,
         "Nicholas Latifi",
         0.0,
         17
        ],
        [
         2020,
         "Carlos Sainz",
         105.0,
         17
        ],
        [
         2020,
         "Lando Norris",
         97.0,
         17
        ],
        [
         2020,
         "Alexander Albon",
         105.0,
         17
        ],
        [
         2020,
         "Sergio Pérez",
         125.0,
         15
        ]
       ],
       "datasetInfos": [],
       "dbfsResultPath": null,
       "isJsonSchema": true,
       "metadata": {},
       "overflow": false,
       "plotOptions": {
        "customPlotOptions": {},
        "displayType": "table",
        "pivotAggregation": null,
        "pivotColumns": null,
        "xColumns": null,
        "yColumns": null
       },
       "removedWidgets": [],
       "schema": [
        {
         "metadata": "{}",
         "name": "race_year",
         "type": "\"integer\""
        },
        {
         "metadata": "{}",
         "name": "driver_name",
         "type": "\"string\""
        },
        {
         "metadata": "{}",
         "name": "total_points",
         "type": "\"double\""
        },
        {
         "metadata": "{}",
         "name": "number_races",
         "type": "\"long\""
        }
       ],
       "type": "table"
      }
     },
     "output_type": "display_data"
    }
   ],
   "source": [
    "demo_grouped_df = demo_df \\\n",
    "    .groupBy(\"race_year\", \"driver_name\") \\\n",
    "    .agg(sum(\"points\").alias(\"total_points\"), countDistinct(\"race_name\").alias(\"number_races\"))\n",
    "display(demo_grouped_df)"
   ]
  },
  {
   "cell_type": "code",
   "execution_count": 0,
   "metadata": {
    "application/vnd.databricks.v1+cell": {
     "cellMetadata": {
      "byteLimit": 2048000,
      "rowLimit": 10000
     },
     "inputWidgets": {},
     "nuid": "81338d44-55c0-4bed-8adf-cf65ef2dbbaf",
     "showTitle": false,
     "tableResultSettingsMap": {},
     "title": ""
    }
   },
   "outputs": [
    {
     "output_type": "stream",
     "name": "stdout",
     "output_type": "stream",
     "text": [
      "+---------+------------------+------------+------------+----+\n|race_year|       driver_name|total_points|number_races|rank|\n+---------+------------------+------------+------------+----+\n|     2020|    Lewis Hamilton|       347.0|          16|   1|\n|     2020|   Valtteri Bottas|       223.0|          17|   2|\n|     2020|    Max Verstappen|       214.0|          17|   3|\n|     2020|      Sergio Pérez|       125.0|          15|   4|\n|     2020|  Daniel Ricciardo|       119.0|          17|   5|\n|     2020|      Carlos Sainz|       105.0|          17|   6|\n|     2020|   Alexander Albon|       105.0|          17|   6|\n|     2020|   Charles Leclerc|        98.0|          17|   8|\n|     2020|      Lando Norris|        97.0|          17|   9|\n|     2020|      Pierre Gasly|        75.0|          17|  10|\n|     2020|      Lance Stroll|        75.0|          16|  10|\n|     2020|      Esteban Ocon|        62.0|          17|  12|\n|     2020|  Sebastian Vettel|        33.0|          17|  13|\n|     2020|      Daniil Kvyat|        32.0|          17|  14|\n|     2020|   Nico Hülkenberg|        10.0|           3|  15|\n|     2020|Antonio Giovinazzi|         4.0|          17|  16|\n|     2020|    Kimi Räikkönen|         4.0|          17|  16|\n|     2020|    George Russell|         3.0|          17|  18|\n|     2020|   Romain Grosjean|         2.0|          15|  19|\n|     2020|   Kevin Magnussen|         1.0|          17|  20|\n+---------+------------------+------------+------------+----+\nonly showing top 20 rows\n\n"
     ]
    }
   ],
   "source": [
    "driverRankSpec = Window.partitionBy(\"race_year\").orderBy(desc(\"total_points\"))\n",
    "\n",
    "demo_grouped_df.withColumn(\"rank\", rank().over(driverRankSpec)).show() "
   ]
  }
 ],
 "metadata": {
  "application/vnd.databricks.v1+notebook": {
   "computePreferences": null,
   "dashboards": [],
   "environmentMetadata": {
    "base_environment": "",
    "environment_version": "2"
   },
   "language": "python",
   "notebookMetadata": {
    "pythonIndentUnit": 4
   },
   "notebookName": "3_aggregation_demo",
   "widgets": {}
  },
  "language_info": {
   "name": "python"
  }
 },
 "nbformat": 4,
 "nbformat_minor": 0
}